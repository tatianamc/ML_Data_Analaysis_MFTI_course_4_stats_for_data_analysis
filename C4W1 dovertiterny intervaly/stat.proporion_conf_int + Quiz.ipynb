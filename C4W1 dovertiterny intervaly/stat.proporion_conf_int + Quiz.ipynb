{
 "cells": [
  {
   "cell_type": "markdown",
   "metadata": {},
   "source": [
    "# Доверительные интервалы для доли "
   ]
  },
  {
   "cell_type": "markdown",
   "metadata": {},
   "source": [
    "## Генерация данных"
   ]
  },
  {
   "cell_type": "code",
   "execution_count": 1,
   "metadata": {
    "collapsed": true
   },
   "outputs": [],
   "source": [
    "import numpy as np"
   ]
  },
  {
   "cell_type": "code",
   "execution_count": 2,
   "metadata": {
    "collapsed": false
   },
   "outputs": [],
   "source": [
    "np.random.seed(1)\n",
    "\n",
    "statistical_population = np.random.randint(2, size = 100000) \n",
    "\n",
    "random_sample = np.random.choice(statistical_population, size = 1000)"
   ]
  },
  {
   "cell_type": "markdown",
   "metadata": {},
   "source": [
    "Cгенерируем кончную совокупность с 2 значениями 0 и 1, размера 100000 с помощью функции randid библиотеки numpy\n",
    "Cгенерируем подвыборку размером 1000, по ней будем оченивать долю успехов(click through rate for banners)"
   ]
  },
  {
   "cell_type": "code",
   "execution_count": 4,
   "metadata": {
    "collapsed": false
   },
   "outputs": [
    {
     "data": {
      "text/plain": [
       "0.49770999999999999"
      ]
     },
     "execution_count": 4,
     "metadata": {},
     "output_type": "execute_result"
    }
   ],
   "source": [
    "#истинное значение доли\n",
    "statistical_population.mean() #оценить среднее по генеральной совокупности"
   ]
  },
  {
   "cell_type": "markdown",
   "metadata": {},
   "source": [
    "## Точечная оценка доли"
   ]
  },
  {
   "cell_type": "code",
   "execution_count": 5,
   "metadata": {
    "collapsed": false
   },
   "outputs": [
    {
     "data": {
      "text/plain": [
       "0.502"
      ]
     },
     "execution_count": 5,
     "metadata": {},
     "output_type": "execute_result"
    }
   ],
   "source": [
    "random_sample.mean() # оценку истинного значения доли по нашей выборке. Лучшая оценка среднего – это выборочная средняя, вляется несмещенной, асимптотически нормальной, эффективной"
   ]
  },
  {
   "cell_type": "markdown",
   "metadata": {},
   "source": [
    "Видим, что мы получили 0,502 — в общем, это очень хорошее продвижение. Однако часто такой оценки недостаточно. Например, в тех случаях, когда мы хотим знать, в каких диапазонах меняется настоящая доля, то есть какое минимальное и максимальное значение на нашу оценку среднего. Вот для того чтобы такую оценку получить, нужно построить доверительный интервал на среднее. Для того чтобы такой интервал получить, мы с вами будем использовать библиотеку Statsmodels"
   ]
  },
  {
   "cell_type": "markdown",
   "metadata": {},
   "source": [
    "## Доверительный интервал для доли"
   ]
  },
  {
   "cell_type": "code",
   "execution_count": 6,
   "metadata": {
    "collapsed": true
   },
   "outputs": [],
   "source": [
    "from statsmodels.stats.proportion import proportion_confint"
   ]
  },
  {
   "cell_type": "markdown",
   "metadata": {},
   "source": [
    "### Доверительный интервал на основе нормального распределения"
   ]
  },
  {
   "cell_type": "markdown",
   "metadata": {},
   "source": [
    "$$\\hat{p}\\pm z_{1-\\frac{\\alpha}{2}} \\sqrt{\\frac{\\hat{p}\\left(1-\\hat{p}\\right)}{n}}$$"
   ]
  },
  {
   "cell_type": "markdown",
   "metadata": {},
   "source": [
    "Чаще всего доверительные интервалы строятся на основе нормального распределения с использованием центральной предельной теоремы. Формула прямо перед вами. Давайте и мы начнем с этого. Для того чтобы такие интервалы получить, мы будем использовать функцию proportion confint. Она принимает несколько аргументов. Первый аргумент — это количество успехов в нашей подвыборке. Второй аргумент — это количество событий, то есть размер нашей подвыборки. И метод, с помощью которого мы хотим это оценивать. Мы работаем с нормальным распределением, поэтому и пишем метод normal. \n",
    "Ширина интервала-чем уже, тем выше точность оценки диапазона. Наше настоящее среднее 0,498,в этот интервал попадает. Ширина интервала 0,06 — довольно узкий интервал."
   ]
  },
  {
   "cell_type": "code",
   "execution_count": 7,
   "metadata": {
    "collapsed": false
   },
   "outputs": [],
   "source": [
    "normal_interval = proportion_confint(sum(random_sample), len(random_sample), method = 'normal')"
   ]
  },
  {
   "cell_type": "code",
   "execution_count": 9,
   "metadata": {
    "collapsed": false
   },
   "outputs": [
    {
     "name": "stdout",
     "output_type": "stream",
     "text": [
      "normal_interval [0.471010, 0.532990] with width 0.061979\n"
     ]
    }
   ],
   "source": [
    "print ('normal_interval [%f, %f] with width %f' % (normal_interval[0],\n",
    "                                                  normal_interval[1], \n",
    "                                                  normal_interval[1] - normal_interval[0]))"
   ]
  },
  {
   "cell_type": "markdown",
   "metadata": {},
   "source": [
    "### Доверительный интервал Уилсона"
   ]
  },
  {
   "cell_type": "markdown",
   "metadata": {},
   "source": [
    "$$\\frac1{ 1 + \\frac{z^2}{n} } \\left( \\hat{p} + \\frac{z^2}{2n} \\pm z \\sqrt{ \\frac{ \\hat{p}\\left(1-\\hat{p}\\right)}{n} + \\frac{\n",
    "z^2}{4n^2} } \\right), \\;\\; z \\equiv z_{1-\\frac{\\alpha}{2}}$$ "
   ]
  },
  {
   "cell_type": "code",
   "execution_count": 16,
   "metadata": {
    "collapsed": false
   },
   "outputs": [],
   "source": [
    "wilson_interval = proportion_confint(sum(random_sample), len(random_sample), method = 'wilson')"
   ]
  },
  {
   "cell_type": "markdown",
   "metadata": {},
   "source": [
    "А теперь давайте попробуем эту оценку улучшить. Следующий метод, который очень часто используют, это доверительный интервал Уилсона. Это некоторое улучшение предыдущего метода, которое позволяет получать качественные оценки в крайних случаях. То есть тогда, когда наша доля очень близка к 0 или очень близка к 1. Более того, этот интервал получается неплохим в случае, когда наша случайная подвыборка довольно мала, то есть включает в себя очень мало событий. Формула для расчета перед вами и давайте строить интервал. Это делается с помощью той же самой функции, видите, что первые два параметра не меняются. Однако нам нужно изменить метод, с помощью которого мы будем строить интервал. В данном случае мы будем пользоваться методом Уилсона, поэтому давайте это явно напишем. Итак, получаем интервал. Теперь давайте выведем результаты на экран. И сравним с предыдущим. Видим, что наши границы практически не изменились, видим, что изменения у нас только в пятом знаке после запятой, ну и с данной точностью мы даже не можем увидеть разницу в ширине интервала, то есть фактически они одинаковые. Ну почему так получается? Здесь мы не видим явных преимуществ, потому что наша случайная подвыборка довольно хороша. Значение доли у нас не является крайним. Объектов целых событий, вернее целых 1000. Поэтому, в общем-то, мы и так можем довольно не плохо это оценить. Теперь давайте посмотрим еще раз на ширину интервала. В данном случае наш интервал имеет ширину 0,6. Часто мы с вами можем хотеть задать некоторое ограничение на ширину интервала. Например, мы хотим знать более точную оценку и получить интервал меньшей ширины. Таким образом, возникает вопрос: сколько же событий нам нужно знать для того, чтобы оценить долю с достаточной точностью? "
   ]
  },
  {
   "cell_type": "code",
   "execution_count": 17,
   "metadata": {
    "collapsed": false
   },
   "outputs": [
    {
     "name": "stdout",
     "output_type": "stream",
     "text": [
      "wilson_interval [0.471062, 0.532922] with width 0.061860\n"
     ]
    }
   ],
   "source": [
    "print ('wilson_interval [%f, %f] with width %f' % (wilson_interval[0],\n",
    "                                                  wilson_interval[1],\n",
    "                                                  wilson_interval[1] - wilson_interval[0]))"
   ]
  },
  {
   "cell_type": "markdown",
   "metadata": {},
   "source": [
    "## Размер выборки для интервала заданной ширины"
   ]
  },
  {
   "cell_type": "code",
   "execution_count": 10,
   "metadata": {
    "collapsed": true
   },
   "outputs": [],
   "source": [
    "from statsmodels.stats.proportion import samplesize_confint_proportion"
   ]
  },
  {
   "cell_type": "code",
   "execution_count": 11,
   "metadata": {
    "collapsed": false
   },
   "outputs": [
    {
     "data": {
      "text/plain": [
       "9604"
      ]
     },
     "execution_count": 11,
     "metadata": {},
     "output_type": "execute_result"
    }
   ],
   "source": [
    "n_samples = int(np.ceil(samplesize_confint_proportion(random_sample.mean(), 0.01)))\n",
    "n_samples"
   ]
  },
  {
   "cell_type": "markdown",
   "metadata": {},
   "source": [
    "сколько же событий нам нужно знать для того, чтобы оценить долю с достаточной точностью? Для того чтобы этот вопрос решить, существует очень удобный метод под названием sample size confint proportion. Он позволяет нам явно задать ограничение на ширину нашего интервала и получить количество событий, которое необходимо для того, чтобы получить оценку заданной ширины. Вот давайте это сделаем. Сначала импортируем нужную функциональность. И вот давайте для разнообразия получим интервал в 3 раза у́же, то есть интервал ширины 0,02. Для этого сначала указываем среднее выборочное по нашей выборке и давайте теперь укажем ширину интервала. На самом деле нам нужно указать половину ширины этого интервала для того, чтобы в дальнейшем получить интервал заданной ширины. Вот давайте получим количество объектов n samples и сразу же на него посмотрим. Вот оказывается, что чтобы получить оценку заданной точности, то есть в 3 раза, чтобы получить ширину в 3 раза у́же, нам нужно взять почти в 10 раз больше событий. "
   ]
  },
  {
   "cell_type": "code",
   "execution_count": 19,
   "metadata": {
    "collapsed": false
   },
   "outputs": [],
   "source": [
    "np.random.seed(1)\n",
    "random_sample = np.random.choice(statistical_population, size = n_samples) # кол-во объектов расчитаное шагом выше"
   ]
  },
  {
   "cell_type": "code",
   "execution_count": 20,
   "metadata": {
    "collapsed": true
   },
   "outputs": [],
   "source": [
    "normal_interval = proportion_confint(sum(random_sample), len(random_sample), method = 'normal')"
   ]
  },
  {
   "cell_type": "code",
   "execution_count": 21,
   "metadata": {
    "collapsed": false
   },
   "outputs": [
    {
     "name": "stdout",
     "output_type": "stream",
     "text": [
      "normal_interval [0.481776, 0.501773] with width 0.019997\n"
     ]
    }
   ],
   "source": [
    "print ('normal_interval [%f, %f] with width %f' % (normal_interval[0],\n",
    "                                                  normal_interval[1],\n",
    "                                                  normal_interval[1] - normal_interval[0]))"
   ]
  },
  {
   "cell_type": "markdown",
   "metadata": {},
   "source": [
    "Интервал по-прежнему достаточно хороший. Наше истинное значение входит в заданный интервал и при этом он стал в 3 раза у́же. Мы получили оценку интервала шириной 0,002. Н"
   ]
  },
  {
   "cell_type": "markdown",
   "metadata": {},
   "source": [
    "Quiz 2\n",
    "Большая часть млекопитающих неспособны во взрослом возрасте переваривать лактозу, содержащуюся в молоке. У людей за расщепление лактозы отвечает фермент лактаза, кодируемый геном LCT. У людей с вариантом 13910T этого гена лактаза продолжает функционировать на протяжении всей жизни. Распределение этого варианта гена сильно варьируется в различных генетических популяциях.\n",
    "\n",
    "Из 50 исследованных представителей народа майя вариант 13910T был обнаружен у одного. Постройте нормальный 95% доверительный интервал для доли носителей варианта 13910T в популяции майя. Чему равна его нижняя граница? Округлите ответ до 4 знаков после десятичной точки."
   ]
  },
  {
   "cell_type": "code",
   "execution_count": 22,
   "metadata": {
    "collapsed": false
   },
   "outputs": [
    {
     "data": {
      "text/plain": [
       "(-0.018805307081790987, 0.058805307081790992)"
      ]
     },
     "execution_count": 22,
     "metadata": {},
     "output_type": "execute_result"
    }
   ],
   "source": [
    "from statsmodels.stats.proportion import proportion_confint\n",
    "proportion_confint(1, 50, method = 'normal')"
   ]
  },
  {
   "cell_type": "markdown",
   "metadata": {},
   "source": [
    "3. \n",
    "В условиях предыдущей задачи постройте 95% доверительный интервал Уилсона для доли носителей варианта 13910T в популяции майя. Чему равна его нижняя граница? Округлите ответ до 4 знаков после десятичной точки."
   ]
  },
  {
   "cell_type": "code",
   "execution_count": 23,
   "metadata": {
    "collapsed": false
   },
   "outputs": [
    {
     "data": {
      "text/plain": [
       "(0.0035392592716462362, 0.10495443589637815)"
      ]
     },
     "execution_count": 23,
     "metadata": {},
     "output_type": "execute_result"
    }
   ],
   "source": [
    "proportion_confint(1, 50, method = 'wilson')"
   ]
  },
  {
   "cell_type": "markdown",
   "metadata": {},
   "source": [
    "4. \n",
    "Какой из двух построенных доверительных интервалов выглядит более вменяемым, учитывая, что параметр, для которого строится оценка, меняется от 0 до 1?\n",
    "wilson"
   ]
  },
  {
   "cell_type": "markdown",
   "metadata": {},
   "source": [
    "5. \n",
    "Пусть в популяции майя действительно 2% носителей варианта 13910T, как в выборке, которую мы исследовали. Какой объём выборки нужен, чтобы с помощью нормального интервала оценить долю носителей гена 13910T с точностью ±0.01 на уровне доверия 95%?"
   ]
  },
  {
   "cell_type": "code",
   "execution_count": 45,
   "metadata": {
    "collapsed": false
   },
   "outputs": [
    {
     "data": {
      "text/plain": [
       "753.0"
      ]
     },
     "execution_count": 45,
     "metadata": {},
     "output_type": "execute_result"
    }
   ],
   "source": [
    "from statsmodels.stats.proportion import samplesize_confint_proportion\n",
    "#statsmodels.stats.proportion.samplesize_confint_proportion(proportion, half_length, alpha=0.05, method='normal')[source]\n",
    "#find sample size to get desired confidence interval length\n",
    "\n",
    "n_samples = np.ceil(samplesize_confint_proportion(1.0/50, 0.01, method='normal'))\n",
    "n_samples"
   ]
  },
  {
   "cell_type": "markdown",
   "metadata": {},
   "source": [
    "Постройте график зависимости объёма выборки, необходимого для оценки для доли носителей гена 13910T с точностью ±0.01 на уровне доверия 95%, от неизвестного параметра p. Посмотрите, при каком значении p нужно больше всего испытуемых. Как вы думаете, насколько вероятно, что выборка, которую мы анализируем, взята из случайной величины с этим значением параметра?\n",
    "\n",
    "Как бы вы не ответили на последний вопрос, рассмотреть объём выборки, необходимый при таком p, всё равно полезно — это даёт максимально пессимистичную оценку необходимого объёма выборки.\n",
    "\n",
    "Какой объём выборки нужен в худшем случае, чтобы с помощью нормального интервала оценить долю носителей гена 13910T с точностью ±0.01 на уровне доверия 95%?"
   ]
  },
  {
   "cell_type": "code",
   "execution_count": 38,
   "metadata": {
    "collapsed": false
   },
   "outputs": [
    {
     "data": {
      "image/png": "[encoded data removed]",
      "text/plain": [
       "<matplotlib.figure.Figure at 0x116e1cc50>"
      ]
     },
     "metadata": {},
     "output_type": "display_data"
    }
   ],
   "source": [
    "import numpy as np\n",
    "%matplotlib inline\n",
    "import matplotlib\n",
    "import matplotlib.pyplot as plt\n",
    "\n",
    "def sample_size(p):\n",
    "    return int(np.ceil(samplesize_confint_proportion(p, 0.01, method='normal')))\n",
    "\n",
    "p_s = np.arange(0, 1.01, 0.01)\n",
    "sample_sizes = [sample_size(p) for p in p_s]\n",
    "plt.plot(ps, sizes)\n",
    "\n",
    "plt.xlabel('p')\n",
    "plt.ylabel('sample size')\n",
    "plt.title('Graph: Required SAMPLE SIZE/PARAMETER P  for 3910T gene carries with confidence level 95% and precision ±0.01')\n",
    "\n",
    "plt.show()"
   ]
  },
  {
   "cell_type": "code",
   "execution_count": 44,
   "metadata": {
    "collapsed": false
   },
   "outputs": [
    {
     "name": "stdout",
     "output_type": "stream",
     "text": [
      "50\n"
     ]
    },
    {
     "data": {
      "text/plain": [
       "9604"
      ]
     },
     "execution_count": 44,
     "metadata": {},
     "output_type": "execute_result"
    }
   ],
   "source": [
    "p_s[np.argmax(sample_sizes)]\n",
    "print(np.argmax(sample_sizes))\n",
    "np.max(sample_sizes)"
   ]
  },
  {
   "cell_type": "code",
   "execution_count": 50,
   "metadata": {
    "collapsed": false
   },
   "outputs": [
    {
     "data": {
      "text/plain": [
       "9604.0"
      ]
     },
     "execution_count": 50,
     "metadata": {},
     "output_type": "execute_result"
    }
   ],
   "source": [
    "np.ceil(samplesize_confint_proportion(0.5, 0.01, method='normal'))"
   ]
  },
  {
   "cell_type": "markdown",
   "metadata": {
    "collapsed": true
   },
   "source": [
    "# Quiz"
   ]
  },
  {
   "cell_type": "markdown",
   "metadata": {},
   "source": [
    "1. \n",
    "Давайте уточним правило трёх сигм. Утверждение: 99.7% вероятностной массы случайной величины X∼N(μ,σ2) лежит в интервале μ±c⋅σ. Чему равно точное значение константы c? Округлите ответ до четырёх знаков после десятичной точки."
   ]
  },
  {
   "cell_type": "markdown",
   "metadata": {},
   "source": [
    "stats.distribution.ppf() is the inverse of cdf(): it returns the x axis cutoff value (quantile) associated with a given probability. For instance, if we want to know the cutoff value for which we have a 40% chance of drawing an observation below that value, we can use ppf():"
   ]
  },
  {
   "cell_type": "code",
   "execution_count": 52,
   "metadata": {
    "collapsed": false
   },
   "outputs": [
    {
     "data": {
      "text/plain": [
       "0.25"
      ]
     },
     "execution_count": 52,
     "metadata": {},
     "output_type": "execute_result"
    }
   ],
   "source": [
    "import scipy.stats  as stats\n",
    "stats.uniform.cdf(x=2.5,         # Cutoff value (quantile) to check\n",
    "                  loc=0,         # Distribution start\n",
    "                  scale=10)      # Distribution end"
   ]
  },
  {
   "cell_type": "code",
   "execution_count": 55,
   "metadata": {
    "collapsed": false
   },
   "outputs": [
    {
     "data": {
      "text/plain": [
       "2.9677379253417944"
      ]
     },
     "execution_count": 55,
     "metadata": {},
     "output_type": "execute_result"
    }
   ],
   "source": [
    "from scipy.stats import norm\n",
    "# Methods: ppf(q, loc=0, scale=1)\tPercent point function (inverse of cdf — percentiles).\n",
    "norm.ppf(.9985) #99.7%+(0.3/2)"
   ]
  },
  {
   "cell_type": "markdown",
   "metadata": {},
   "source": [
    "Task 5. В пятилетнем рандомизированном исследовании Гарвардской медицинской школы 11037 испытуемых через день принимали аспирин, а ещё 11034 — плацебо. Исследование было слепым, то есть, испытуемые не знали, что именно они принимают.\n",
    "За 5 лет инфаркт случился у 104 испытуемых, принимавших аспирин, и у 189 принимавших плацебо.\n",
    "Оцените, насколько вероятность инфаркта снижается при приёме аспирина. Округлите ответ до четырёх знаков после десятичной точки."
   ]
  },
  {
   "cell_type": "code",
   "execution_count": 109,
   "metadata": {
    "collapsed": false
   },
   "outputs": [],
   "source": [
    "import scipy\n",
    "import numpy as np\n",
    "\n",
    "sample1=11037\n",
    "inf1=104\n",
    "sample2=11034\n",
    "inf2=189"
   ]
  },
  {
   "cell_type": "code",
   "execution_count": 110,
   "metadata": {
    "collapsed": false
   },
   "outputs": [
    {
     "data": {
      "text/plain": [
       "0.0077060239760047815"
      ]
     },
     "execution_count": 110,
     "metadata": {},
     "output_type": "execute_result"
    }
   ],
   "source": [
    "abs(inf1/sample1-inf2/sample2) #Task 5 ,see formula below"
   ]
  },
  {
   "cell_type": "code",
   "execution_count": 111,
   "metadata": {
    "collapsed": true
   },
   "outputs": [],
   "source": [
    "def proportions_confint_diff_ind(sample1, sample2, alpha = 0.05):    \n",
    "    z = scipy.stats.norm.ppf(1 - alpha / 2.)   \n",
    "    p1 = float(sum(sample1)) / len(sample1)\n",
    "    p2 = float(sum(sample2)) / len(sample2)\n",
    "    \n",
    "    left_boundary = (p1 - p2) - z * np.sqrt(p1 * (1 - p1)/ len(sample1) + p2 * (1 - p2)/ len(sample2))\n",
    "    right_boundary = (p1 - p2) + z * np.sqrt(p1 * (1 - p1)/ len(sample1) + p2 * (1 - p2)/ len(sample2))\n",
    "    \n",
    "    return (left_boundary, right_boundary)"
   ]
  },
  {
   "cell_type": "code",
   "execution_count": 119,
   "metadata": {
    "collapsed": true
   },
   "outputs": [],
   "source": [
    "data_test = np.zeros(sample1) #векторы исходов в контрольной и тестовой выборках так, чтобы в начале шли все единицы, а потом все ну\n",
    "data_control = np.zeros(sample2)\n",
    "data_test[:inf1]=1\n",
    "data_control[:inf2]=1\n"
   ]
  },
  {
   "cell_type": "code",
   "execution_count": 120,
   "metadata": {
    "collapsed": false
   },
   "outputs": [
    {
     "name": "stdout",
     "output_type": "stream",
     "text": [
      "confidence interval: [0.004688, 0.010724]\n"
     ]
    }
   ],
   "source": [
    "print (\"confidence interval: [%f, %f]\" % proportions_confint_diff_ind(data_control, data_test))"
   ]
  },
  {
   "cell_type": "markdown",
   "metadata": {},
   "source": [
    "$X_1$ \\ $X_2$ | 1| 0 | $\\sum$\n",
    "  ------------- | -------------|\n",
    "  1  | e | f | e + f\n",
    "  0  | g | h | g + h\n",
    "  $\\sum$ | e + g| f + h | n  \n",
    "  $$ \\hat{p}_1 = \\frac{e + f}{n}$$\n",
    "\n",
    "$$ \\hat{p}_2 = \\frac{e + g}{n}$$\n",
    "\n",
    "$$ \\hat{p}_1 - \\hat{p}_2 = \\frac{f - g}{n}$$"
   ]
  },
  {
   "cell_type": "markdown",
   "metadata": {},
   "source": [
    "$\\text{Доверительный интервал для }p_1 - p_2\\colon \\;\\;  \\frac{f - g}{n} \\pm z_{1-\\frac{\\alpha}{2}}\\sqrt{\\frac{f + g}{n^2} - \\frac{(f - g)^2}{n^3}}$"
   ]
  },
  {
   "cell_type": "markdown",
   "metadata": {},
   "source": [
    "Task7 Продолжим анализировать данные эксперимента Гарвардской медицинской школы.\n",
    "\n",
    "Для бернуллиевских случайных величин X∼Ber(p) часто вычисляют величину p1−p, которая называется шансами (odds). Чтобы оценить шансы по выборке, вместо p нужно подставить p^. Например, шансы инфаркта в контрольной группе, принимавшей плацебо, можно оценить как\n",
    "$\\frac{\\frac{189}{11034}}{1-\\frac{189}{11034}} = \\frac{189}{11034-189}\\approx 0.0174$\n",
    "\n",
    "Оцените, во сколько раз понижаются шансы инфаркта при регулярном приёме аспирина. Округлите ответ до четырёх знаков после десятичной точки.\n",
    "\n",
    "Enter answer here\n"
   ]
  },
  {
   "cell_type": "code",
   "execution_count": 79,
   "metadata": {
    "collapsed": false
   },
   "outputs": [
    {
     "data": {
      "text/plain": [
       "1.8320539419087138"
      ]
     },
     "execution_count": 79,
     "metadata": {},
     "output_type": "execute_result"
    }
   ],
   "source": [
    "odds1=p1/(1-p1)\n",
    "odds2=p2/(1-p2)\n",
    "odds2/odds1"
   ]
  },
  {
   "cell_type": "markdown",
   "metadata": {},
   "source": [
    "Task 8. \n",
    "Величина, которую вы оценили в предыдущем вопросе, называется отношением шансов. Постройте для отношения шансов 95% доверительный интервал с помощью бутстрепа. Чему равна его нижняя граница? Округлите ответ до 4 знаков после десятичной точки.\n",
    "\n",
    "Чтобы получить в точности такой же доверительный интервал, как у нас:\n",
    "\n",
    "составьте векторы исходов в контрольной и тестовой выборках так, чтобы в начале шли все единицы, а потом все нули;\n",
    "установите random seed=0;\n",
    "сделайте по 1000 псевдовыборок из каждой группы пациентов с помощью функции get_bootstrap_samples."
   ]
  },
  {
   "cell_type": "code",
   "execution_count": 121,
   "metadata": {
    "collapsed": true
   },
   "outputs": [],
   "source": [
    "def get_bootstrap_samples(data, n_samples):\n",
    "    indices = np.random.randint(0, len(data), (n_samples, len(data)))\n",
    "    samples = data[indices]\n",
    "    return samples"
   ]
  },
  {
   "cell_type": "code",
   "execution_count": 122,
   "metadata": {
    "collapsed": true
   },
   "outputs": [],
   "source": [
    "def stat_intervals(stat, alpha):\n",
    "    boundaries = np.percentile(stat, [100 * alpha / 2., 100 * (1 - alpha / 2.)])\n",
    "    return boundaries"
   ]
  },
  {
   "cell_type": "code",
   "execution_count": 123,
   "metadata": {
    "collapsed": true
   },
   "outputs": [],
   "source": [
    "np.random.seed(0)"
   ]
  },
  {
   "cell_type": "code",
   "execution_count": 145,
   "metadata": {
    "collapsed": true
   },
   "outputs": [],
   "source": [
    "data_test_pseudo = get_bootstrap_samples(data1, 1000) # для каждых данных генерируем псевдостатистики\n",
    "data_control_pseudo = get_bootstrap_samples(data2, 1000)"
   ]
  },
  {
   "cell_type": "code",
   "execution_count": 146,
   "metadata": {
    "collapsed": false
   },
   "outputs": [
    {
     "name": "stdout",
     "output_type": "stream",
     "text": [
      "[[ 0.  0.  0. ...,  0.  0.  0.]\n",
      " [ 1.  0.  0. ...,  0.  0.  0.]\n",
      " [ 0.  0.  0. ...,  0.  0.  0.]\n",
      " ..., \n",
      " [ 0.  0.  0. ...,  0.  0.  0.]\n",
      " [ 0.  0.  0. ...,  0.  0.  0.]\n",
      " [ 0.  0.  0. ...,  0.  0.  0.]]\n"
     ]
    }
   ],
   "source": [
    "print(data_test_pseudo)"
   ]
  },
  {
   "cell_type": "code",
   "execution_count": 137,
   "metadata": {
    "collapsed": false
   },
   "outputs": [
    {
     "name": "stdout",
     "output_type": "stream",
     "text": [
      "(1000, 11037)\n",
      "[ 0.  0.  0. ...,  0.  0.  0.]\n"
     ]
    }
   ],
   "source": [
    "print(data_test_pseudo.shape)\n",
    "print(data_test_pseudo[2])"
   ]
  },
  {
   "cell_type": "code",
   "execution_count": 158,
   "metadata": {
    "collapsed": false
   },
   "outputs": [
    {
     "name": "stdout",
     "output_type": "stream",
     "text": [
      "1000\n",
      "[0.010529207104925838, 0.009604829857299671, 0.0088665447897623394, 0.008958771368498035, 0.0092355523043160213, 0.0079452054794520548, 0.010621737936086438, 0.0091432751211483962, 0.008589966188430961, 0.0092355523043160213, 0.010899432130426817, 0.010714285714285714, 0.010714285714285714, 0.010251716247139588, 0.011269928532160528, 0.0098819654131210542, 0.0090510148107515089, 0.0099743777452415815, 0.0091432751211483962, 0.0097895699908508698, 0.010529207104925838, 0.0078531640946032325, 0.0076691317447274716, 0.009327846364883402, 0.0091432751211483962, 0.0096971914737901382, 0.0091432751211483962, 0.0094201573074812507, 0.00849780701754386, 0.0096971914737901382, 0.0082214305289120305, 0.0084056646870717226, 0.008774335069920482, 0.011177278973889144, 0.010344196265104357, 0.0097895699908508698, 0.010159253157605712, 0.009512485136741973, 0.010159253157605712, 0.00849780701754386, 0.0098819654131210542, 0.0096971914737901382, 0.008958771368498035, 0.0084056646870717226, 0.010159253157605712, 0.0086821422043502107, 0.008774335069920482, 0.0098819654131210542, 0.01136259507009988, 0.0081293386919985382, 0.0098819654131210542, 0.0098819654131210542, 0.0083135391923990498, 0.0088665447897623394, 0.009604829857299671, 0.010529207104925838, 0.010436693216149409, 0.010159253157605712, 0.010621737936086438, 0.0080372636770481322, 0.0097895699908508698, 0.0090510148107515089, 0.010159253157605712, 0.008774335069920482, 0.010899432130426817, 0.0098819654131210542, 0.008958771368498035, 0.00849780701754386, 0.0097895699908508698, 0.0099743777452415815, 0.0090510148107515089, 0.009512485136741973, 0.0091432751211483962, 0.0084056646870717226, 0.0088665447897623394, 0.009512485136741973, 0.008589966188430961, 0.010529207104925838, 0.008589966188430961, 0.008774335069920482, 0.0099743777452415815, 0.0092355523043160213, 0.010899432130426817, 0.010251716247139588, 0.010529207104925838, 0.0086821422043502107, 0.008774335069920482, 0.0090510148107515089, 0.011826182618261826, 0.010714285714285714, 0.0092355523043160213, 0.0092355523043160213, 0.0092355523043160213, 0.009604829857299671, 0.009512485136741973, 0.0094201573074812507, 0.0082214305289120305, 0.011084646390619275, 0.0088665447897623394, 0.0083135391923990498, 0.0099743777452415815, 0.0088665447897623394, 0.010529207104925838, 0.0092355523043160213, 0.0094201573074812507, 0.010251716247139588, 0.0080372636770481322, 0.011547979103656861, 0.011918951132300357, 0.01080685044417987, 0.0078531640946032325, 0.01080685044417987, 0.010159253157605712, 0.0084056646870717226, 0.0088665447897623394, 0.0091432751211483962, 0.0077611395178962747, 0.007577140770494796, 0.0086821422043502107, 0.010714285714285714, 0.009327846364883402, 0.0086821422043502107, 0.0099743777452415815, 0.0079452054794520548, 0.0091432751211483962, 0.010066806991855038, 0.010159253157605712, 0.0088665447897623394, 0.0083135391923990498, 0.010344196265104357, 0.009604829857299671, 0.010529207104925838, 0.010621737936086438, 0.011084646390619275, 0.009512485136741973, 0.011733431111925933, 0.008589966188430961, 0.0092355523043160213, 0.007577140770494796, 0.0094201573074812507, 0.0098819654131210542, 0.008958771368498035, 0.008589966188430961, 0.0091432751211483962, 0.008589966188430961, 0.008589966188430961, 0.011084646390619275, 0.010344196265104357, 0.0076691317447274716, 0.0097895699908508698, 0.0088665447897623394, 0.008958771368498035, 0.0080372636770481322, 0.0097895699908508698, 0.0092355523043160213, 0.009327846364883402, 0.0098819654131210542, 0.011084646390619275, 0.0098819654131210542, 0.010529207104925838, 0.008774335069920482, 0.010714285714285714, 0.0088665447897623394, 0.010714285714285714, 0.0092355523043160213, 0.010159253157605712, 0.0081293386919985382, 0.009327846364883402, 0.009604829857299671, 0.010436693216149409, 0.010066806991855038, 0.008958771368498035, 0.008589966188430961, 0.009327846364883402, 0.0092355523043160213, 0.008774335069920482, 0.0088665447897623394, 0.011177278973889144, 0.010251716247139588, 0.0083135391923990498, 0.0086821422043502107, 0.0099743777452415815, 0.008774335069920482, 0.010714285714285714, 0.0092355523043160213, 0.0092355523043160213, 0.01080685044417987, 0.0091432751211483962, 0.008774335069920482, 0.0098819654131210542, 0.009327846364883402, 0.009604829857299671, 0.0088665447897623394, 0.010251716247139588, 0.0073012685954184538, 0.010714285714285714, 0.0083135391923990498, 0.0078531640946032325, 0.010714285714285714, 0.0099743777452415815, 0.010714285714285714, 0.0091432751211483962, 0.0088665447897623394, 0.011177278973889144, 0.0091432751211483962, 0.0090510148107515089, 0.012290195359075483, 0.008589966188430961, 0.0094201573074812507, 0.0097895699908508698, 0.010899432130426817, 0.011177278973889144, 0.0088665447897623394, 0.009327846364883402, 0.0096971914737901382, 0.008958771368498035, 0.0074851665905979001, 0.0086821422043502107, 0.010714285714285714, 0.010251716247139588, 0.009512485136741973, 0.008774335069920482, 0.0090510148107515089, 0.012197358767424797, 0.0084056646870717226, 0.0094201573074812507, 0.0098819654131210542, 0.010344196265104357, 0.009512485136741973, 0.010066806991855038, 0.011177278973889144, 0.0088665447897623394, 0.0091432751211483962, 0.0094201573074812507, 0.0096971914737901382, 0.0079452054794520548, 0.009604829857299671, 0.010436693216149409, 0.010251716247139588, 0.010621737936086438, 0.0096971914737901382, 0.010066806991855038, 0.010436693216149409, 0.009604829857299671, 0.0065663474692202461, 0.0098819654131210542, 0.0088665447897623394, 0.008774335069920482, 0.008589966188430961, 0.008958771368498035, 0.009512485136741973, 0.0092355523043160213, 0.0098819654131210542, 0.0096971914737901382, 0.010899432130426817, 0.010436693216149409, 0.008958771368498035, 0.0091432751211483962, 0.0078531640946032325, 0.009604829857299671, 0.008589966188430961, 0.012475919640399962, 0.0091432751211483962, 0.0094201573074812507, 0.0091432751211483962, 0.009512485136741973, 0.009604829857299671, 0.0098819654131210542, 0.0092355523043160213, 0.0094201573074812507, 0.010529207104925838, 0.0090510148107515089, 0.009327846364883402, 0.010992030777686177, 0.0081293386919985382, 0.0094201573074812507, 0.0091432751211483962, 0.0079452054794520548, 0.00849780701754386, 0.009604829857299671, 0.011640696608615948, 0.008589966188430961, 0.010436693216149409, 0.009327846364883402, 0.0092355523043160213, 0.008589966188430961, 0.0090510148107515089, 0.010159253157605712, 0.009604829857299671, 0.0090510148107515089, 0.0096971914737901382, 0.009327846364883402, 0.0086821422043502107, 0.010344196265104357, 0.010066806991855038, 0.0090510148107515089, 0.010344196265104357, 0.0094201573074812507, 0.009327846364883402, 0.009512485136741973, 0.0071174377224199285, 0.010621737936086438, 0.0094201573074812507, 0.0097895699908508698, 0.010344196265104357, 0.0098819654131210542, 0.0094201573074812507, 0.010436693216149409, 0.010344196265104357, 0.0088665447897623394, 0.008774335069920482, 0.009604829857299671, 0.009512485136741973, 0.0083135391923990498, 0.0084056646870717226, 0.0090510148107515089, 0.0088665447897623394, 0.0088665447897623394, 0.0080372636770481322, 0.0088665447897623394, 0.0086821422043502107, 0.01080685044417987, 0.0088665447897623394, 0.010344196265104357, 0.009327846364883402, 0.0098819654131210542, 0.0083135391923990498, 0.00849780701754386, 0.010251716247139588, 0.0083135391923990498, 0.0091432751211483962, 0.010251716247139588, 0.011177278973889144, 0.0091432751211483962, 0.01080685044417987, 0.010066806991855038, 0.010066806991855038, 0.008589966188430961, 0.010159253157605712, 0.0094201573074812507, 0.009512485136741973, 0.009327846364883402, 0.0094201573074812507, 0.011084646390619275, 0.00849780701754386, 0.009604829857299671, 0.009327846364883402, 0.010714285714285714, 0.009604829857299671, 0.0091432751211483962, 0.0086821422043502107, 0.0096971914737901382, 0.008958771368498035, 0.0086821422043502107, 0.009604829857299671, 0.0099743777452415815, 0.0091432751211483962, 0.010251716247139588, 0.010251716247139588, 0.0096971914737901382, 0.010621737936086438, 0.008958771368498035, 0.009512485136741973, 0.0098819654131210542, 0.010159253157605712, 0.010899432130426817, 0.011455278592375367, 0.008774335069920482, 0.010992030777686177, 0.011269928532160528, 0.00849780701754386, 0.007025547445255474, 0.0090510148107515089, 0.0091432751211483962, 0.010159253157605712, 0.0080372636770481322, 0.009512485136741973, 0.01080685044417987, 0.011547979103656861, 0.0079452054794520548, 0.008589966188430961, 0.010066806991855038, 0.01080685044417987, 0.0094201573074812507, 0.00849780701754386, 0.009327846364883402, 0.0092355523043160213, 0.0099743777452415815, 0.0096971914737901382, 0.010436693216149409, 0.010714285714285714, 0.0097895699908508698, 0.0094201573074812507, 0.0071174377224199285, 0.010344196265104357, 0.0096971914737901382, 0.0088665447897623394, 0.012197358767424797, 0.010529207104925838, 0.0090510148107515089, 0.0098819654131210542, 0.009512485136741973, 0.011269928532160528, 0.009604829857299671, 0.0084056646870717226, 0.009327846364883402, 0.0080372636770481322, 0.008774335069920482, 0.009604829857299671, 0.010529207104925838, 0.00849780701754386, 0.0082214305289120305, 0.0097895699908508698, 0.0090510148107515089, 0.0086821422043502107, 0.0096971914737901382, 0.010436693216149409, 0.009512485136741973, 0.0088665447897623394, 0.0083135391923990498, 0.0088665447897623394, 0.0084056646870717226, 0.0097895699908508698, 0.0074851665905979001, 0.010529207104925838, 0.010066806991855038, 0.010436693216149409, 0.0082214305289120305, 0.010714285714285714, 0.009327846364883402, 0.0099743777452415815, 0.008774335069920482, 0.0097895699908508698, 0.009512485136741973, 0.010621737936086438, 0.007577140770494796, 0.0091432751211483962, 0.00849780701754386, 0.010621737936086438, 0.010066806991855038, 0.0098819654131210542, 0.0082214305289120305, 0.0098819654131210542, 0.009604829857299671, 0.011547979103656861, 0.008774335069920482, 0.008774335069920482, 0.01080685044417987, 0.0096971914737901382, 0.010344196265104357, 0.008774335069920482, 0.010344196265104357, 0.011177278973889144, 0.0099743777452415815, 0.010992030777686177, 0.0079452054794520548, 0.008958771368498035, 0.008589966188430961, 0.0090510148107515089, 0.009604829857299671, 0.0094201573074812507, 0.0090510148107515089, 0.0086821422043502107, 0.010159253157605712, 0.0090510148107515089, 0.008774335069920482, 0.010899432130426817, 0.0091432751211483962, 0.0078531640946032325, 0.0099743777452415815, 0.0082214305289120305, 0.010066806991855038, 0.010621737936086438, 0.0092355523043160213, 0.0094201573074812507, 0.010621737936086438, 0.010066806991855038, 0.0083135391923990498, 0.0097895699908508698, 0.010251716247139588, 0.0078531640946032325, 0.0098819654131210542, 0.0081293386919985382, 0.0094201573074812507, 0.009512485136741973, 0.0098819654131210542, 0.011455278592375367, 0.0084056646870717226, 0.0083135391923990498, 0.0098819654131210542, 0.009512485136741973, 0.0097895699908508698, 0.010251716247139588, 0.0097895699908508698, 0.0097895699908508698, 0.010436693216149409, 0.010992030777686177, 0.010992030777686177, 0.0092355523043160213, 0.0096971914737901382, 0.011455278592375367, 0.0091432751211483962, 0.0098819654131210542, 0.008774335069920482, 0.0099743777452415815, 0.010529207104925838, 0.0084056646870717226, 0.0090510148107515089, 0.0081293386919985382, 0.0096971914737901382, 0.010436693216149409, 0.008958771368498035, 0.010436693216149409, 0.010992030777686177, 0.008774335069920482, 0.011547979103656861, 0.010066806991855038, 0.0090510148107515089, 0.008958771368498035, 0.0091432751211483962, 0.0081293386919985382, 0.0090510148107515089, 0.008958771368498035, 0.0083135391923990498, 0.010159253157605712, 0.0091432751211483962, 0.0099743777452415815, 0.009327846364883402, 0.011455278592375367, 0.010621737936086438, 0.0090510148107515089, 0.0098819654131210542, 0.0098819654131210542, 0.0091432751211483962, 0.010066806991855038, 0.0091432751211483962, 0.0088665447897623394, 0.008589966188430961, 0.010159253157605712, 0.010066806991855038, 0.0097895699908508698, 0.01136259507009988, 0.0096971914737901382, 0.010066806991855038, 0.0082214305289120305, 0.010621737936086438, 0.010066806991855038, 0.01080685044417987, 0.0083135391923990498, 0.0092355523043160213, 0.009512485136741973, 0.009327846364883402, 0.0092355523043160213, 0.010066806991855038, 0.010714285714285714, 0.0074851665905979001, 0.0086821422043502107, 0.0082214305289120305, 0.009604829857299671, 0.0088665447897623394, 0.0092355523043160213, 0.010066806991855038, 0.010899432130426817, 0.009604829857299671, 0.010621737936086438, 0.0092355523043160213, 0.009512485136741973, 0.0083135391923990498, 0.0096971914737901382, 0.010066806991855038, 0.0086821422043502107, 0.008774335069920482, 0.008774335069920482, 0.008774335069920482, 0.0080372636770481322, 0.010066806991855038, 0.008958771368498035, 0.010436693216149409, 0.0086821422043502107, 0.01136259507009988, 0.0063827847177897329, 0.010066806991855038, 0.0092355523043160213, 0.0079452054794520548, 0.01080685044417987, 0.0090510148107515089, 0.0099743777452415815, 0.0072093447709436027, 0.0098819654131210542, 0.007577140770494796, 0.0086821422043502107, 0.009604829857299671, 0.0086821422043502107, 0.010251716247139588, 0.010621737936086438, 0.0099743777452415815, 0.0081293386919985382, 0.009327846364883402, 0.0098819654131210542, 0.0094201573074812507, 0.010066806991855038, 0.010344196265104357, 0.0088665447897623394, 0.011733431111925933, 0.0099743777452415815, 0.0092355523043160213, 0.0073932092004381162, 0.008589966188430961, 0.0096971914737901382, 0.00849780701754386, 0.010066806991855038, 0.009512485136741973, 0.010529207104925838, 0.010529207104925838, 0.0099743777452415815, 0.0092355523043160213, 0.008774335069920482, 0.0076691317447274716, 0.011733431111925933, 0.010066806991855038, 0.008958771368498035, 0.010714285714285714, 0.008774335069920482, 0.0099743777452415815, 0.009604829857299671, 0.009604829857299671, 0.0097895699908508698, 0.0088665447897623394, 0.0090510148107515089, 0.0094201573074812507, 0.009512485136741973, 0.010251716247139588, 0.008589966188430961, 0.0078531640946032325, 0.010066806991855038, 0.0098819654131210542, 0.00849780701754386, 0.011084646390619275, 0.0088665447897623394, 0.010344196265104357, 0.0082214305289120305, 0.0091432751211483962, 0.010159253157605712, 0.008958771368498035, 0.010714285714285714, 0.0081293386919985382, 0.0081293386919985382, 0.010344196265104357, 0.010251716247139588, 0.007577140770494796, 0.010251716247139588, 0.009604829857299671, 0.0097895699908508698, 0.008958771368498035, 0.009327846364883402, 0.010159253157605712, 0.0082214305289120305, 0.009604829857299671, 0.0096971914737901382, 0.010159253157605712, 0.0097895699908508698, 0.008589966188430961, 0.009327846364883402, 0.010714285714285714, 0.008774335069920482, 0.010159253157605712, 0.00849780701754386, 0.0079452054794520548, 0.0092355523043160213, 0.008589966188430961, 0.0078531640946032325, 0.0068418171866447726, 0.0096971914737901382, 0.0097895699908508698, 0.0099743777452415815, 0.0082214305289120305, 0.011084646390619275, 0.010992030777686177, 0.00849780701754386, 0.010436693216149409, 0.0088665447897623394, 0.009512485136741973, 0.011640696608615948, 0.009327846364883402, 0.0094201573074812507, 0.009604829857299671, 0.010899432130426817, 0.0097895699908508698, 0.010066806991855038, 0.009512485136741973, 0.0098819654131210542, 0.008958771368498035, 0.0077611395178962747, 0.0088665447897623394, 0.0082214305289120305, 0.0094201573074812507, 0.010251716247139588, 0.010251716247139588, 0.0094201573074812507, 0.0079452054794520548, 0.010529207104925838, 0.0088665447897623394, 0.010251716247139588, 0.010529207104925838, 0.0091432751211483962, 0.0097895699908508698, 0.0097895699908508698, 0.0069336739348599581, 0.008958771368498035, 0.0096971914737901382, 0.010159253157605712, 0.0090510148107515089, 0.009327846364883402, 0.009327846364883402, 0.010066806991855038, 0.009512485136741973, 0.009604829857299671, 0.008958771368498035, 0.008958771368498035, 0.010621737936086438, 0.011918951132300357, 0.01080685044417987, 0.011177278973889144, 0.0088665447897623394, 0.009327846364883402, 0.009604829857299671, 0.01080685044417987, 0.008958771368498035, 0.011640696608615948, 0.0081293386919985382, 0.0090510148107515089, 0.0090510148107515089, 0.008958771368498035, 0.009327846364883402, 0.0092355523043160213, 0.0096971914737901382, 0.010159253157605712, 0.009512485136741973, 0.0091432751211483962, 0.0097895699908508698, 0.010621737936086438, 0.008774335069920482, 0.00849780701754386, 0.010066806991855038, 0.009327846364883402, 0.010436693216149409, 0.0081293386919985382, 0.009604829857299671, 0.011084646390619275, 0.009604829857299671, 0.009604829857299671, 0.0091432751211483962, 0.0098819654131210542, 0.0092355523043160213, 0.008589966188430961, 0.0090510148107515089, 0.0097895699908508698, 0.008589966188430961, 0.011177278973889144, 0.009327846364883402, 0.010621737936086438, 0.0084056646870717226, 0.010251716247139588, 0.010251716247139588, 0.008958771368498035, 0.00849780701754386, 0.0077611395178962747, 0.0091432751211483962, 0.0086821422043502107, 0.010714285714285714, 0.0081293386919985382, 0.0080372636770481322, 0.009327846364883402, 0.00849780701754386, 0.0096971914737901382, 0.010159253157605712, 0.0098819654131210542, 0.010899432130426817, 0.0096971914737901382, 0.0098819654131210542, 0.008589966188430961, 0.0090510148107515089, 0.0097895699908508698, 0.0092355523043160213, 0.00849780701754386, 0.009512485136741973, 0.008589966188430961, 0.011177278973889144, 0.0086821422043502107, 0.0083135391923990498, 0.0083135391923990498, 0.0088665447897623394, 0.0096971914737901382, 0.0096971914737901382, 0.010066806991855038, 0.0081293386919985382, 0.0090510148107515089, 0.0091432751211483962, 0.0078531640946032325, 0.0080372636770481322, 0.009604829857299671, 0.009604829857299671, 0.0096971914737901382, 0.008774335069920482, 0.010159253157605712, 0.0099743777452415815, 0.008774335069920482, 0.010159253157605712, 0.010714285714285714, 0.010159253157605712, 0.0094201573074812507, 0.0096971914737901382, 0.008589966188430961, 0.0091432751211483962, 0.010159253157605712, 0.010159253157605712, 0.010159253157605712, 0.0092355523043160213, 0.0092355523043160213, 0.010621737936086438, 0.0097895699908508698, 0.011084646390619275, 0.008774335069920482, 0.0088665447897623394, 0.009327846364883402, 0.0094201573074812507, 0.009327846364883402, 0.00849780701754386, 0.008958771368498035, 0.009512485136741973, 0.0090510148107515089, 0.0094201573074812507, 0.009512485136741973, 0.0084056646870717226, 0.0094201573074812507, 0.0098819654131210542, 0.0086821422043502107, 0.009327846364883402, 0.0084056646870717226, 0.0098819654131210542, 0.009512485136741973, 0.0097895699908508698, 0.0091432751211483962, 0.010714285714285714, 0.0090510148107515089, 0.008958771368498035, 0.008774335069920482, 0.0096971914737901382, 0.011826182618261826, 0.011177278973889144, 0.0099743777452415815, 0.0092355523043160213, 0.009512485136741973, 0.0094201573074812507, 0.0084056646870717226, 0.0084056646870717226, 0.010066806991855038, 0.009604829857299671, 0.010251716247139588, 0.01136259507009988, 0.0098819654131210542, 0.010436693216149409, 0.0088665447897623394, 0.0088665447897623394, 0.0098819654131210542, 0.009604829857299671, 0.0081293386919985382, 0.0092355523043160213, 0.010159253157605712, 0.0082214305289120305, 0.009512485136741973, 0.009512485136741973, 0.0094201573074812507, 0.0086821422043502107, 0.0088665447897623394, 0.009327846364883402, 0.0091432751211483962, 0.009327846364883402, 0.0091432751211483962, 0.009604829857299671, 0.00849780701754386, 0.0082214305289120305, 0.010621737936086438, 0.008774335069920482, 0.009512485136741973, 0.009327846364883402, 0.011084646390619275, 0.0099743777452415815, 0.010066806991855038, 0.0090510148107515089, 0.0099743777452415815, 0.0080372636770481322, 0.008774335069920482, 0.010714285714285714, 0.011177278973889144, 0.0094201573074812507, 0.010992030777686177, 0.008958771368498035, 0.0082214305289120305, 0.008589966188430961, 0.0086821422043502107, 0.009327846364883402, 0.009327846364883402, 0.00849780701754386, 0.01080685044417987, 0.010436693216149409, 0.010436693216149409, 0.009604829857299671, 0.0099743777452415815, 0.0091432751211483962, 0.0092355523043160213, 0.010159253157605712, 0.009512485136741973, 0.0079452054794520548, 0.0086821422043502107, 0.0094201573074812507, 0.0096971914737901382, 0.010066806991855038, 0.0098819654131210542, 0.008774335069920482, 0.009512485136741973, 0.010066806991855038, 0.0077611395178962747, 0.009604829857299671, 0.0097895699908508698, 0.00849780701754386, 0.010251716247139588, 0.0092355523043160213, 0.010344196265104357, 0.0091432751211483962, 0.0091432751211483962, 0.0076691317447274716, 0.010251716247139588, 0.0082214305289120305, 0.0094201573074812507, 0.0096971914737901382, 0.010714285714285714, 0.010621737936086438, 0.010344196265104357, 0.008958771368498035, 0.0097895699908508698, 0.009512485136741973, 0.009512485136741973, 0.011547979103656861, 0.0097895699908508698, 0.010436693216149409, 0.0088665447897623394, 0.008589966188430961, 0.0099743777452415815, 0.0092355523043160213, 0.00849780701754386, 0.0098819654131210542, 0.009604829857299671, 0.0090510148107515089, 0.009327846364883402, 0.011084646390619275, 0.008589966188430961, 0.01080685044417987, 0.010621737936086438, 0.0094201573074812507, 0.009327846364883402, 0.0098819654131210542, 0.009327846364883402, 0.01136259507009988, 0.0092355523043160213, 0.010159253157605712, 0.009512485136741973, 0.009512485136741973, 0.0074851665905979001, 0.0090510148107515089, 0.009604829857299671, 0.0098819654131210542, 0.008958771368498035, 0.009327846364883402, 0.0082214305289120305, 0.0098819654131210542, 0.0092355523043160213, 0.009604829857299671, 0.012011736658719971, 0.010899432130426817, 0.0080372636770481322, 0.0099743777452415815, 0.0098819654131210542, 0.009604829857299671, 0.0077611395178962747, 0.010159253157605712, 0.010159253157605712, 0.009604829857299671, 0.010066806991855038, 0.0081293386919985382, 0.0098819654131210542, 0.0098819654131210542, 0.0086821422043502107, 0.009604829857299671, 0.010344196265104357, 0.010899432130426817, 0.008958771368498035, 0.0083135391923990498, 0.009327846364883402, 0.010344196265104357]\n"
     ]
    }
   ],
   "source": [
    "check1=list(map(lambda x: sum(x)/(len(x) - sum(x)), data_test_pseudo))\n",
    "print(len(check1))\n",
    "print (check1)"
   ]
  },
  {
   "cell_type": "code",
   "execution_count": null,
   "metadata": {
    "collapsed": true
   },
   "outputs": [],
   "source": [
    "check2=list(map(lambda x: sum(x)/(len(x) - sum(x)), data_test_pseudo))"
   ]
  },
  {
   "cell_type": "code",
   "execution_count": null,
   "metadata": {
    "collapsed": true
   },
   "outputs": [],
   "source": [
    "odds_scores = list(map(np.median, get_bootstrap_samples(data1, 1000)))\n",
    "clec_median_scores = list(map(np.median, get_bootstrap_samples(data2, 1000)))"
   ]
  },
  {
   "cell_type": "code",
   "execution_count": 155,
   "metadata": {
    "collapsed": false
   },
   "outputs": [],
   "source": [
    "odd_scores = zip((map(lambda x: sum(x)/(len(x) - sum(x)), data_test_pseudo)), \\\n",
    "                 (map(lambda x: sum(x)/(len(x) - sum(x)), data_control_pseudo)))"
   ]
  },
  {
   "cell_type": "code",
   "execution_count": 156,
   "metadata": {
    "collapsed": false
   },
   "outputs": [
    {
     "name": "stdout",
     "output_type": "stream",
     "text": [
      "<class 'zip'>\n"
     ]
    }
   ],
   "source": [
    "print (type(odd_scores))"
   ]
  },
  {
   "cell_type": "code",
   "execution_count": 157,
   "metadata": {
    "collapsed": false
   },
   "outputs": [
    {
     "ename": "TypeError",
     "evalue": "unsupported operand type(s) for *: 'zip' and 'float'",
     "output_type": "error",
     "traceback": [
      "\u001b[0;31m---------------------------------------------------------------------------\u001b[0m",
      "\u001b[0;31mTypeError\u001b[0m                                 Traceback (most recent call last)",
      "\u001b[0;32m<ipython-input-157-9358e7b04b80>\u001b[0m in \u001b[0;36m<module>\u001b[0;34m()\u001b[0m\n\u001b[0;32m----> 1\u001b[0;31m \u001b[0mprint\u001b[0m \u001b[0;34m(\u001b[0m\u001b[0;34m\"95% confidence interval for the data1 median repair time:\"\u001b[0m\u001b[0;34m,\u001b[0m  \u001b[0mstat_intervals\u001b[0m\u001b[0;34m(\u001b[0m\u001b[0modd_scores\u001b[0m\u001b[0;34m,\u001b[0m \u001b[0;36m0.05\u001b[0m\u001b[0;34m)\u001b[0m\u001b[0;34m)\u001b[0m\u001b[0;34m\u001b[0m\u001b[0m\n\u001b[0m",
      "\u001b[0;32m<ipython-input-122-1814f9e1c199>\u001b[0m in \u001b[0;36mstat_intervals\u001b[0;34m(stat, alpha)\u001b[0m\n\u001b[1;32m      1\u001b[0m \u001b[0;32mdef\u001b[0m \u001b[0mstat_intervals\u001b[0m\u001b[0;34m(\u001b[0m\u001b[0mstat\u001b[0m\u001b[0;34m,\u001b[0m \u001b[0malpha\u001b[0m\u001b[0;34m)\u001b[0m\u001b[0;34m:\u001b[0m\u001b[0;34m\u001b[0m\u001b[0m\n\u001b[0;32m----> 2\u001b[0;31m     \u001b[0mboundaries\u001b[0m \u001b[0;34m=\u001b[0m \u001b[0mnp\u001b[0m\u001b[0;34m.\u001b[0m\u001b[0mpercentile\u001b[0m\u001b[0;34m(\u001b[0m\u001b[0mstat\u001b[0m\u001b[0;34m,\u001b[0m \u001b[0;34m[\u001b[0m\u001b[0;36m100\u001b[0m \u001b[0;34m*\u001b[0m \u001b[0malpha\u001b[0m \u001b[0;34m/\u001b[0m \u001b[0;36m2.\u001b[0m\u001b[0;34m,\u001b[0m \u001b[0;36m100\u001b[0m \u001b[0;34m*\u001b[0m \u001b[0;34m(\u001b[0m\u001b[0;36m1\u001b[0m \u001b[0;34m-\u001b[0m \u001b[0malpha\u001b[0m \u001b[0;34m/\u001b[0m \u001b[0;36m2.\u001b[0m\u001b[0;34m)\u001b[0m\u001b[0;34m]\u001b[0m\u001b[0;34m)\u001b[0m\u001b[0;34m\u001b[0m\u001b[0m\n\u001b[0m\u001b[1;32m      3\u001b[0m     \u001b[0;32mreturn\u001b[0m \u001b[0mboundaries\u001b[0m\u001b[0;34m\u001b[0m\u001b[0m\n",
      "\u001b[0;32m//anaconda/lib/python3.5/site-packages/numpy/lib/function_base.py\u001b[0m in \u001b[0;36mpercentile\u001b[0;34m(a, q, axis, out, overwrite_input, interpolation, keepdims)\u001b[0m\n\u001b[1;32m   3697\u001b[0m     r, k = _ureduce(a, func=_percentile, q=q, axis=axis, out=out,\n\u001b[1;32m   3698\u001b[0m                     \u001b[0moverwrite_input\u001b[0m\u001b[0;34m=\u001b[0m\u001b[0moverwrite_input\u001b[0m\u001b[0;34m,\u001b[0m\u001b[0;34m\u001b[0m\u001b[0m\n\u001b[0;32m-> 3699\u001b[0;31m                     interpolation=interpolation)\n\u001b[0m\u001b[1;32m   3700\u001b[0m     \u001b[0;32mif\u001b[0m \u001b[0mkeepdims\u001b[0m\u001b[0;34m:\u001b[0m\u001b[0;34m\u001b[0m\u001b[0m\n\u001b[1;32m   3701\u001b[0m         \u001b[0;32mif\u001b[0m \u001b[0mq\u001b[0m\u001b[0;34m.\u001b[0m\u001b[0mndim\u001b[0m \u001b[0;34m==\u001b[0m \u001b[0;36m0\u001b[0m\u001b[0;34m:\u001b[0m\u001b[0;34m\u001b[0m\u001b[0m\n",
      "\u001b[0;32m//anaconda/lib/python3.5/site-packages/numpy/lib/function_base.py\u001b[0m in \u001b[0;36m_ureduce\u001b[0;34m(a, func, **kwargs)\u001b[0m\n\u001b[1;32m   3423\u001b[0m         \u001b[0mkeepdim\u001b[0m \u001b[0;34m=\u001b[0m \u001b[0;34m[\u001b[0m\u001b[0;36m1\u001b[0m\u001b[0;34m]\u001b[0m \u001b[0;34m*\u001b[0m \u001b[0ma\u001b[0m\u001b[0;34m.\u001b[0m\u001b[0mndim\u001b[0m\u001b[0;34m\u001b[0m\u001b[0m\n\u001b[1;32m   3424\u001b[0m \u001b[0;34m\u001b[0m\u001b[0m\n\u001b[0;32m-> 3425\u001b[0;31m     \u001b[0mr\u001b[0m \u001b[0;34m=\u001b[0m \u001b[0mfunc\u001b[0m\u001b[0;34m(\u001b[0m\u001b[0ma\u001b[0m\u001b[0;34m,\u001b[0m \u001b[0;34m**\u001b[0m\u001b[0mkwargs\u001b[0m\u001b[0;34m)\u001b[0m\u001b[0;34m\u001b[0m\u001b[0m\n\u001b[0m\u001b[1;32m   3426\u001b[0m     \u001b[0;32mreturn\u001b[0m \u001b[0mr\u001b[0m\u001b[0;34m,\u001b[0m \u001b[0mkeepdim\u001b[0m\u001b[0;34m\u001b[0m\u001b[0m\n\u001b[1;32m   3427\u001b[0m \u001b[0;34m\u001b[0m\u001b[0m\n",
      "\u001b[0;32m//anaconda/lib/python3.5/site-packages/numpy/lib/function_base.py\u001b[0m in \u001b[0;36m_percentile\u001b[0;34m(a, q, axis, out, overwrite_input, interpolation, keepdims)\u001b[0m\n\u001b[1;32m   3814\u001b[0m             \u001b[0mn\u001b[0m \u001b[0;34m=\u001b[0m \u001b[0mnp\u001b[0m\u001b[0;34m.\u001b[0m\u001b[0misnan\u001b[0m\u001b[0;34m(\u001b[0m\u001b[0map\u001b[0m\u001b[0;34m[\u001b[0m\u001b[0;34m-\u001b[0m\u001b[0;36m1\u001b[0m\u001b[0;34m:\u001b[0m\u001b[0;34m,\u001b[0m \u001b[0;34m...\u001b[0m\u001b[0;34m]\u001b[0m\u001b[0;34m)\u001b[0m\u001b[0;34m\u001b[0m\u001b[0m\n\u001b[1;32m   3815\u001b[0m \u001b[0;34m\u001b[0m\u001b[0m\n\u001b[0;32m-> 3816\u001b[0;31m         \u001b[0mx1\u001b[0m \u001b[0;34m=\u001b[0m \u001b[0mtake\u001b[0m\u001b[0;34m(\u001b[0m\u001b[0map\u001b[0m\u001b[0;34m,\u001b[0m \u001b[0mindices_below\u001b[0m\u001b[0;34m,\u001b[0m \u001b[0maxis\u001b[0m\u001b[0;34m=\u001b[0m\u001b[0maxis\u001b[0m\u001b[0;34m)\u001b[0m \u001b[0;34m*\u001b[0m \u001b[0mweights_below\u001b[0m\u001b[0;34m\u001b[0m\u001b[0m\n\u001b[0m\u001b[1;32m   3817\u001b[0m         \u001b[0mx2\u001b[0m \u001b[0;34m=\u001b[0m \u001b[0mtake\u001b[0m\u001b[0;34m(\u001b[0m\u001b[0map\u001b[0m\u001b[0;34m,\u001b[0m \u001b[0mindices_above\u001b[0m\u001b[0;34m,\u001b[0m \u001b[0maxis\u001b[0m\u001b[0;34m=\u001b[0m\u001b[0maxis\u001b[0m\u001b[0;34m)\u001b[0m \u001b[0;34m*\u001b[0m \u001b[0mweights_above\u001b[0m\u001b[0;34m\u001b[0m\u001b[0m\n\u001b[1;32m   3818\u001b[0m \u001b[0;34m\u001b[0m\u001b[0m\n",
      "\u001b[0;31mTypeError\u001b[0m: unsupported operand type(s) for *: 'zip' and 'float'"
     ]
    }
   ],
   "source": [
    "print (\"95% confidence interval for the data1 median repair time:\",  stat_intervals(odd_scores, 0.05))"
   ]
  },
  {
   "cell_type": "code",
   "execution_count": null,
   "metadata": {
    "collapsed": true
   },
   "outputs": [],
   "source": []
  }
 ],
 "metadata": {
  "anaconda-cloud": {},
  "kernelspec": {
   "display_name": "Python [Root]",
   "language": "python",
   "name": "Python [Root]"
  },
  "language_info": {
   "codemirror_mode": {
    "name": "ipython",
    "version": 3
   },
   "file_extension": ".py",
   "mimetype": "text/x-python",
   "name": "python",
   "nbconvert_exporter": "python",
   "pygments_lexer": "ipython3",
   "version": "3.5.2"
  }
 },
 "nbformat": 4,
 "nbformat_minor": 0
}
