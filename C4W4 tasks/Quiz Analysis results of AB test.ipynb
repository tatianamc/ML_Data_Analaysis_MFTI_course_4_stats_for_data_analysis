{
 "cells": [
  {
   "cell_type": "code",
   "execution_count": 2,
   "metadata": {
    "collapsed": true
   },
   "outputs": [],
   "source": [
    "import numpy as np\n",
    "import pandas as pd\n",
    "import matplotlib.pyplot as plt\n",
    "import scipy.stats"
   ]
  },
  {
   "cell_type": "markdown",
   "metadata": {},
   "source": [
    "В данном задании вам нужно будет проанализировать АБ тест, проведенный на реальных пользователях Яндекса\n",
    "подтвердить или опровергнуть наличие изменений в пользовательском поведении между контрольной (control) и тестовой (exp) группами\n",
    "определить характер этих изменений и практическую значимость вводимого изменения\n",
    "понять, какая из пользовательских групп более всего проигрывает / выигрывает от тестируемого изменения (локализовать изменение)\n",
    "Описание данных:\n",
    "\n",
    "userID: уникальный идентификатор пользователя\n",
    "browser: браузер, который использовал userID\n",
    "slot: в каком статусе пользователь участвовал в исследовании (exp = видел измененную страницу, control = видел неизменную страницу)\n",
    "n_clicks: количество кликов, которые пользоваль совершил за n_queries\n",
    "n_queries: количество запросов, который совершил userID, пользуясь браузером browser\n",
    "n_nonclk_queries: количество запросов пользователя, в которых им не было совершено ни одного клика\n",
    "Обращаем ваше внимание, что не все люди используют только один браузер, поэтому в столбце userID есть повторяющиеся идентификаторы. В предлагаемых данных уникальным является сочетание userID и browser.\n",
    "Основная метрика, на которой мы сосредоточимся в этой работе, — это количество пользовательских кликов на web-странице в зависимости от тестируемого изменения этой страницы.\n",
    "\n",
    "Посчитайте, насколько в группе exp больше пользовательских кликов по сравнению с группой control в процентах от числа кликов в контрольной группе.\n",
    "\n",
    "Полученный процент округлите до третьего знака после точки.\n"
   ]
  },
  {
   "cell_type": "code",
   "execution_count": 3,
   "metadata": {
    "collapsed": false
   },
   "outputs": [],
   "source": [
    "data=pd.read_csv('ab_browser_test.csv')"
   ]
  },
  {
   "cell_type": "code",
   "execution_count": 4,
   "metadata": {
    "collapsed": false
   },
   "outputs": [
    {
     "data": {
      "text/html": [
       "<div>\n",
       "<table border=\"1\" class=\"dataframe\">\n",
       "  <thead>\n",
       "    <tr style=\"text-align: right;\">\n",
       "      <th></th>\n",
       "      <th>userID</th>\n",
       "      <th>browser</th>\n",
       "      <th>slot</th>\n",
       "      <th>n_clicks</th>\n",
       "      <th>n_queries</th>\n",
       "      <th>n_nonclk_queries</th>\n",
       "    </tr>\n",
       "  </thead>\n",
       "  <tbody>\n",
       "    <tr>\n",
       "      <th>0</th>\n",
       "      <td>1</td>\n",
       "      <td>Browser #2</td>\n",
       "      <td>exp</td>\n",
       "      <td>23</td>\n",
       "      <td>32</td>\n",
       "      <td>19</td>\n",
       "    </tr>\n",
       "    <tr>\n",
       "      <th>1</th>\n",
       "      <td>3</td>\n",
       "      <td>Browser #4</td>\n",
       "      <td>exp</td>\n",
       "      <td>3</td>\n",
       "      <td>4</td>\n",
       "      <td>2</td>\n",
       "    </tr>\n",
       "    <tr>\n",
       "      <th>2</th>\n",
       "      <td>5</td>\n",
       "      <td>Browser #4</td>\n",
       "      <td>exp</td>\n",
       "      <td>29</td>\n",
       "      <td>35</td>\n",
       "      <td>16</td>\n",
       "    </tr>\n",
       "    <tr>\n",
       "      <th>3</th>\n",
       "      <td>6</td>\n",
       "      <td>Browser #4</td>\n",
       "      <td>control</td>\n",
       "      <td>12</td>\n",
       "      <td>6</td>\n",
       "      <td>0</td>\n",
       "    </tr>\n",
       "    <tr>\n",
       "      <th>4</th>\n",
       "      <td>7</td>\n",
       "      <td>Browser #4</td>\n",
       "      <td>exp</td>\n",
       "      <td>54</td>\n",
       "      <td>68</td>\n",
       "      <td>30</td>\n",
       "    </tr>\n",
       "  </tbody>\n",
       "</table>\n",
       "</div>"
      ],
      "text/plain": [
       "   userID     browser     slot  n_clicks  n_queries  n_nonclk_queries\n",
       "0       1  Browser #2      exp        23         32                19\n",
       "1       3  Browser #4      exp         3          4                 2\n",
       "2       5  Browser #4      exp        29         35                16\n",
       "3       6  Browser #4  control        12          6                 0\n",
       "4       7  Browser #4      exp        54         68                30"
      ]
     },
     "execution_count": 4,
     "metadata": {},
     "output_type": "execute_result"
    }
   ],
   "source": [
    "data.head()"
   ]
  },
  {
   "cell_type": "code",
   "execution_count": 5,
   "metadata": {
    "collapsed": false
   },
   "outputs": [
    {
     "data": {
      "text/plain": [
       "(566134, 6)"
      ]
     },
     "execution_count": 5,
     "metadata": {},
     "output_type": "execute_result"
    }
   ],
   "source": [
    "data.shape"
   ]
  },
  {
   "cell_type": "code",
   "execution_count": 25,
   "metadata": {
    "collapsed": false
   },
   "outputs": [
    {
     "data": {
      "text/html": [
       "<div>\n",
       "<table border=\"1\" class=\"dataframe\">\n",
       "  <thead>\n",
       "    <tr style=\"text-align: right;\">\n",
       "      <th></th>\n",
       "      <th>userID</th>\n",
       "      <th>n_clicks</th>\n",
       "      <th>n_queries</th>\n",
       "      <th>n_nonclk_queries</th>\n",
       "    </tr>\n",
       "  </thead>\n",
       "  <tbody>\n",
       "    <tr>\n",
       "      <th>count</th>\n",
       "      <td>566134.000000</td>\n",
       "      <td>566134.000000</td>\n",
       "      <td>566134.000000</td>\n",
       "      <td>566134.000000</td>\n",
       "    </tr>\n",
       "    <tr>\n",
       "      <th>mean</th>\n",
       "      <td>301377.214027</td>\n",
       "      <td>11.431658</td>\n",
       "      <td>10.720524</td>\n",
       "      <td>4.703987</td>\n",
       "    </tr>\n",
       "    <tr>\n",
       "      <th>std</th>\n",
       "      <td>175526.333101</td>\n",
       "      <td>20.251494</td>\n",
       "      <td>16.262827</td>\n",
       "      <td>8.109958</td>\n",
       "    </tr>\n",
       "    <tr>\n",
       "      <th>min</th>\n",
       "      <td>1.000000</td>\n",
       "      <td>0.000000</td>\n",
       "      <td>1.000000</td>\n",
       "      <td>0.000000</td>\n",
       "    </tr>\n",
       "    <tr>\n",
       "      <th>25%</th>\n",
       "      <td>148627.250000</td>\n",
       "      <td>1.000000</td>\n",
       "      <td>2.000000</td>\n",
       "      <td>1.000000</td>\n",
       "    </tr>\n",
       "    <tr>\n",
       "      <th>50%</th>\n",
       "      <td>299362.500000</td>\n",
       "      <td>4.000000</td>\n",
       "      <td>5.000000</td>\n",
       "      <td>2.000000</td>\n",
       "    </tr>\n",
       "    <tr>\n",
       "      <th>75%</th>\n",
       "      <td>455698.750000</td>\n",
       "      <td>13.000000</td>\n",
       "      <td>13.000000</td>\n",
       "      <td>6.000000</td>\n",
       "    </tr>\n",
       "    <tr>\n",
       "      <th>max</th>\n",
       "      <td>603137.000000</td>\n",
       "      <td>863.000000</td>\n",
       "      <td>665.000000</td>\n",
       "      <td>581.000000</td>\n",
       "    </tr>\n",
       "  </tbody>\n",
       "</table>\n",
       "</div>"
      ],
      "text/plain": [
       "              userID       n_clicks      n_queries  n_nonclk_queries\n",
       "count  566134.000000  566134.000000  566134.000000     566134.000000\n",
       "mean   301377.214027      11.431658      10.720524          4.703987\n",
       "std    175526.333101      20.251494      16.262827          8.109958\n",
       "min         1.000000       0.000000       1.000000          0.000000\n",
       "25%    148627.250000       1.000000       2.000000          1.000000\n",
       "50%    299362.500000       4.000000       5.000000          2.000000\n",
       "75%    455698.750000      13.000000      13.000000          6.000000\n",
       "max    603137.000000     863.000000     665.000000        581.000000"
      ]
     },
     "execution_count": 25,
     "metadata": {},
     "output_type": "execute_result"
    }
   ],
   "source": [
    "data.describe()"
   ]
  },
  {
   "cell_type": "code",
   "execution_count": 26,
   "metadata": {
    "collapsed": true
   },
   "outputs": [],
   "source": [
    "clicks_exp=data[data.slot=='exp']['n_clicks'].values\n",
    "clicks_ctrl=data[data.slot=='control']['n_clicks'].values"
   ]
  },
  {
   "cell_type": "code",
   "execution_count": 11,
   "metadata": {
    "collapsed": false
   },
   "outputs": [],
   "source": [
    "s1=sum(clicks_exp)"
   ]
  },
  {
   "cell_type": "code",
   "execution_count": 27,
   "metadata": {
    "collapsed": false
   },
   "outputs": [],
   "source": [
    "s2=sum(clicks_ctrl)"
   ]
  },
  {
   "cell_type": "code",
   "execution_count": 28,
   "metadata": {
    "collapsed": true
   },
   "outputs": [],
   "source": [
    "res=(s1-s2)/float(s2)*100"
   ]
  },
  {
   "cell_type": "code",
   "execution_count": 29,
   "metadata": {
    "collapsed": false
   },
   "outputs": [
    {
     "data": {
      "text/plain": [
       "1.6135689824415809"
      ]
     },
     "execution_count": 29,
     "metadata": {},
     "output_type": "execute_result"
    }
   ],
   "source": [
    "res"
   ]
  },
  {
   "cell_type": "markdown",
   "metadata": {},
   "source": [
    "Давайте попробуем посмотреть более внимательно на разницу между двумя группами (control и exp) относительно количества пользовательских кликов.\n",
    "\n",
    "Для этого постройте с помощью бутстрепа 95% доверительный интервал для средних значений и медиан количества кликов в каждой из двух групп. Отметьте все верные утверждения.\n",
    "\n",
    "V 95% доверительный интервал для разности медиан не содержит ноль, похоже, медианы отличаются статистически значимо\n",
    "\n",
    "V 95% доверительный интервал для разности средних не содержит ноль, похоже, средние отличаются статистически значимо"
   ]
  },
  {
   "cell_type": "markdown",
   "metadata": {},
   "source": [
    "# Bootstrap"
   ]
  },
  {
   "cell_type": "code",
   "execution_count": 21,
   "metadata": {
    "collapsed": true
   },
   "outputs": [],
   "source": [
    "def get_bootstrap_samples(data, n_samples):\n",
    "    indices = np.random.randint(0, len(data), (n_samples, len(data)))\n",
    "    samples = data[indices]\n",
    "    return samples"
   ]
  },
  {
   "cell_type": "code",
   "execution_count": 22,
   "metadata": {
    "collapsed": true
   },
   "outputs": [],
   "source": [
    "def stat_intervals(stat, alpha):\n",
    "    boundaries = np.percentile(stat, [100 * alpha / 2., 100 * (1 - alpha / 2.)])\n",
    "    return boundaries"
   ]
  },
  {
   "cell_type": "markdown",
   "metadata": {},
   "source": [
    "# Интервальная оценка медианы"
   ]
  },
  {
   "cell_type": "code",
   "execution_count": 30,
   "metadata": {
    "collapsed": false
   },
   "outputs": [
    {
     "name": "stdout",
     "output_type": "stream",
     "text": [
      "95% confidence interval for the clicks_exp median repair time: [ 5.  5.]\n",
      "95% confidence interval for the clicks_ctrl median repair time: [ 4.  4.]\n"
     ]
    }
   ],
   "source": [
    "np.random.seed(0)\n",
    "\n",
    "clicks_exp_median_scores = list(map(np.median, get_bootstrap_samples(clicks_exp, 1000)))\n",
    "clicks_ctrl_median_scores = list(map(np.median, get_bootstrap_samples(clicks_ctrl, 1000)))\n",
    "\n",
    "print (\"95% confidence interval for the clicks_exp median repair time:\",  stat_intervals(clicks_exp_median_scores, 0.05))\n",
    "print (\"95% confidence interval for the clicks_ctrl median repair time:\",  stat_intervals(clicks_ctrl_median_scores, 0.05))"
   ]
  },
  {
   "cell_type": "markdown",
   "metadata": {},
   "source": [
    "# Точечная оценка разности медиан"
   ]
  },
  {
   "cell_type": "code",
   "execution_count": 31,
   "metadata": {
    "collapsed": false
   },
   "outputs": [
    {
     "name": "stdout",
     "output_type": "stream",
     "text": [
      "difference between medians: 1.0\n"
     ]
    }
   ],
   "source": [
    "print (\"difference between medians:\", np.median(clicks_exp) - np.median(clicks_ctrl))"
   ]
  },
  {
   "cell_type": "markdown",
   "metadata": {},
   "source": [
    "# Интервальная оценка разности медиан"
   ]
  },
  {
   "cell_type": "code",
   "execution_count": 32,
   "metadata": {
    "collapsed": true
   },
   "outputs": [],
   "source": [
    "delta_median_scores = list(map(lambda x: x[1] - x[0], zip(clicks_exp_median_scores, clicks_ctrl_median_scores)))"
   ]
  },
  {
   "cell_type": "code",
   "execution_count": 33,
   "metadata": {
    "collapsed": false
   },
   "outputs": [
    {
     "name": "stdout",
     "output_type": "stream",
     "text": [
      "95% confidence interval for the difference between medians [-1. -1.]\n"
     ]
    }
   ],
   "source": [
    "print (\"95% confidence interval for the difference between medians\",  print (\"95% confidence interval for the difference between medians\",  stat_intervals(delta_median_scores, 0.05)))"
   ]
  },
  {
   "cell_type": "code",
   "execution_count": 45,
   "metadata": {
    "collapsed": false
   },
   "outputs": [
    {
     "name": "stdout",
     "output_type": "stream",
     "text": [
      "95% confidence interval for the exp median: [ 11.5086867   11.66089388]\n",
      "95% confidence interval for the control median: [ 11.20795095  11.35742732]\n"
     ]
    }
   ],
   "source": [
    "np.random.seed(0)\n",
    "\n",
    "exp_clicks_mean_scores = list(map(np.mean, get_bootstrap_samples(clicks_exp, 1000)))\n",
    "control_clicks_mean_scores = list(map(np.mean, get_bootstrap_samples(clicks_ctrl, 1000)))\n",
    "\n",
    "print (\"95% confidence interval for the exp median:\",  stat_intervals(exp_clicks_mean_scores, 0.05))\n",
    "print (\"95% confidence interval for the control median:\",  stat_intervals(control_clicks_mean_scores, 0.05))"
   ]
  },
  {
   "cell_type": "code",
   "execution_count": 47,
   "metadata": {
    "collapsed": true
   },
   "outputs": [],
   "source": [
    "mean_scores = zip(map(np.mean, exp_clicks_mean_scores), map(np.mean, control_clicks_mean_scores))"
   ]
  },
  {
   "cell_type": "code",
   "execution_count": 48,
   "metadata": {
    "collapsed": false
   },
   "outputs": [],
   "source": [
    "delta_mean_scores = list(map(lambda x: x[1] - x[0], mean_scores))"
   ]
  },
  {
   "cell_type": "code",
   "execution_count": 49,
   "metadata": {
    "collapsed": false
   },
   "outputs": [
    {
     "name": "stdout",
     "output_type": "stream",
     "text": [
      "95% confidence interval for the difference between medians: [-0.40475697 -0.19172563]\n"
     ]
    }
   ],
   "source": [
    "print (\"95% confidence interval for the difference between medians:\",  stat_intervals(delta_mean_scores, 0.05))"
   ]
  },
  {
   "cell_type": "markdown",
   "metadata": {},
   "source": [
    "Task 3 Поскольку данных достаточно много (порядка полумиллиона уникальных пользователей), отличие в несколько процентов может быть не только практически значимым, но и значимым статистически. Последнее утверждение нуждается в дополнительной проверке.\n",
    "\n",
    "Посмотрите на выданные вам данные и выберите все верные варианты ответа относительно проверки гипотезы о равенстве среднего количества кликов в группах.\n",
    "\n",
    "     Для проверки гипотезы о равенстве средних категорически нельзя использовать t-критерий Стьюдента ни при каком размере выборки, потому что количество кликов, которые мы исследуем, больше походят на распределение Пуассона, которое сильно отличается от нормального.\n",
    "\n",
    "     Используя центральную предельную теорему, мы можем заключить, что с ростом объема выборки любое исследуемое распределение, становится похожим на нормальное, а значит, учитывая большой объем нашей выборки, оптимальным критерием в нашей задаче будет z-критерий.\n",
    "\n",
    "     ##Все ответы неверны\n",
    "\n",
    "     Гипотезу о равенстве средних между двумя выборками можно проверить с помощью построения доверительного интервала для среднего объединенной выборки, потому что в силу большого объема выборки этот интервал будет очень точным, и мы сможем надежно оценить необходимый доверительный интервал\n",
    "\n",
    "     Для проверки гипотезы о равенстве средних в данной задаче можно использовать только параметрические критерии, потому что непараметрические, как известно, с увеличением размера выборки могут давать непредсказуемые результаты в силу случайности в определении их нулевого распределения."
   ]
  },
  {
   "cell_type": "code",
   "execution_count": 52,
   "metadata": {
    "collapsed": false
   },
   "outputs": [
    {
     "name": "stdout",
     "output_type": "stream",
     "text": [
      "Shapiro-Wilk normality test, W-statistic: 0.545878, p-value: 0.000000\n"
     ]
    },
    {
     "name": "stderr",
     "output_type": "stream",
     "text": [
      "//anaconda/lib/python3.5/site-packages/scipy/stats/morestats.py:1330: UserWarning: p-value may not be accurate for N > 5000.\n",
      "  warnings.warn(\"p-value may not be accurate for N > 5000.\")\n"
     ]
    }
   ],
   "source": [
    "from statsmodels.stats.weightstats import *\n",
    "print (\"Shapiro-Wilk normality test, W-statistic: %f, p-value: %f\" % stats.shapiro(clicks_exp))"
   ]
  },
  {
   "cell_type": "markdown",
   "metadata": {},
   "source": [
    " Shapiro-Wilk test is a specific test for normality\n",
    " The null hypothesis for this test is that the data are normally distributed. The Prob < W value listed in the output is the p-value. If the chosen alpha level is 0.05 and the p-value is less than 0.05, then the null hypothesis that the data are normally distributed is rejected"
   ]
  },
  {
   "cell_type": "code",
   "execution_count": 55,
   "metadata": {
    "collapsed": false
   },
   "outputs": [
    {
     "name": "stdout",
     "output_type": "stream",
     "text": [
      "Populating the interactive namespace from numpy and matplotlib\n"
     ]
    },
    {
     "data": {
      "image/png": "[encoded data removed]",
      "text/plain": [
       "<matplotlib.figure.Figure at 0x1194d1ac8>"
      ]
     },
     "metadata": {},
     "output_type": "display_data"
    }
   ],
   "source": [
    "%pylab inline\n",
    "pylab.figure(figsize=(12,8))\n",
    "pylab.subplot(2,2,1)\n",
    "stats.probplot(clicks_exp, dist=\"norm\", plot=pylab)\n",
    "pylab.subplot(2,2,2)\n",
    "stats.probplot(clicks_ctrl, dist=\"norm\", plot=pylab)\n",
    "pylab.show()\n"
   ]
  },
  {
   "cell_type": "markdown",
   "metadata": {},
   "source": [
    "Проверив на нормальность. Посмотрим на распределение остатков с помощью ку-ку графика. Видим, что точки на ку-ку графике лежат довольно далеко от прямой прямой. Распределение остатков не похоже на нормальное. "
   ]
  },
  {
   "cell_type": "markdown",
   "metadata": {},
   "source": [
    "TASK 4. \n",
    "t-критерий Стьюдента имеет множество достоинств, и потому его достаточно часто применяют в AB экспериментах. \n",
    "Иногда его применение может быть необоснованно из-за сильной скошенности распределения данных.\n",
    "\n",
    "Давайте постараемся понять, когда t-критерий можно применять и как это проверить на реальных данных \n",
    "$$ \\frac{\\bar{X} - \\mu}{ \\sqrt {S^2 / n}}$$, то есть чтобы действительно предположения t-критерия выполнялись необходимо, чтобы:\n",
    "\n",
    "X¯ — среднее значение в выборке — было распределено нормально $$\\mathcal{N}(\\mu, \\frac{\\sigma^2}{n})$$ \n",
    "$$\\frac{n}{\\sigma^2} S^2$$ — несмещенная оценка дисперсии c масштабирующим коэффициентом — была распределена по хи-квадрат c n−1 степенями свободы χ2(n−1)\n",
    "Простое доказательство необходимости и достаточности этого требования можно посмотреть в самом последнем абзаце этого вопроса. Усвоение этого доказательства не обязательно для выполнения задания.\n",
    "\n",
    "Оба этих предположения можно проверить с помощью бутстрепа. Ограничимся сейчас только контрольной группой, в которой распределение кликов будем называть данными в рамках данного вопроса.\n",
    "\n",
    "Поскольку мы не знаем истинного распределения генеральной совокупности, мы можем применить бутстреп, чтобы понять, как распределены среднее значение и выборочная дисперсия. Для этого проделайте шаги ниже."
   ]
  },
  {
   "cell_type": "code",
   "execution_count": 66,
   "metadata": {
    "collapsed": true
   },
   "outputs": [],
   "source": [
    "np.random.seed(0) #Чтобы получить такой же ответ, как у нас, зафиксируйте seed и количество псевдовыборок:\n",
    "n_boot_samples = 500 #1 Получите из данных n_boot_samples псевдовыборок."
   ]
  },
  {
   "cell_type": "code",
   "execution_count": 69,
   "metadata": {
    "collapsed": false
   },
   "outputs": [],
   "source": [
    "control_clicks_mean_scores = list(map(np.mean, get_bootstrap_samples(clicks_ctrl, n_boot_samples)))\n",
    "control_boot_chi_squared = list(map(lambda x: np.std(x) ** 2, get_bootstrap_samples(clicks_ctrl, n_boot_samples)))\n",
    "#2 По каждой из этих выборок посчитайте среднее и сумму квадратов отклонения от выборочного среднего (control_boot_chi_squared)"
   ]
  },
  {
   "cell_type": "code",
   "execution_count": 70,
   "metadata": {
    "collapsed": false
   },
   "outputs": [
    {
     "data": {
      "text/plain": [
       "((array([ -2.99209858e+00,  -2.71015927e+00,  -2.55162541e+00,\n",
       "          -2.43921385e+00,  -2.35113311e+00,  -2.27822091e+00,\n",
       "          -2.21572267e+00,  -2.16084152e+00,  -2.11178767e+00,\n",
       "          -2.06734403e+00,  -2.02664403e+00,  -1.98904794e+00,\n",
       "          -1.95406954e+00,  -1.92133033e+00,  -1.89052965e+00,\n",
       "          -1.86142459e+00,  -1.83381593e+00,  -1.80753820e+00,\n",
       "          -1.78245240e+00,  -1.75844061e+00,  -1.73540186e+00,\n",
       "          -1.71324904e+00,  -1.69190643e+00,  -1.67130780e+00,\n",
       "          -1.65139483e+00,  -1.63211595e+00,  -1.61342528e+00,\n",
       "          -1.59528183e+00,  -1.57764883e+00,  -1.56049314e+00,\n",
       "          -1.54378481e+00,  -1.52749667e+00,  -1.51160399e+00,\n",
       "          -1.49608418e+00,  -1.48091659e+00,  -1.46608224e+00,\n",
       "          -1.45156367e+00,  -1.43734479e+00,  -1.42341071e+00,\n",
       "          -1.40974764e+00,  -1.39634279e+00,  -1.38318426e+00,\n",
       "          -1.37026095e+00,  -1.35756253e+00,  -1.34507932e+00,\n",
       "          -1.33280226e+00,  -1.32072287e+00,  -1.30883317e+00,\n",
       "          -1.29712567e+00,  -1.28559331e+00,  -1.27422944e+00,\n",
       "          -1.26302778e+00,  -1.25198239e+00,  -1.24108768e+00,\n",
       "          -1.23033831e+00,  -1.21972926e+00,  -1.20925574e+00,\n",
       "          -1.19891322e+00,  -1.18869738e+00,  -1.17860411e+00,\n",
       "          -1.16862950e+00,  -1.15876983e+00,  -1.14902154e+00,\n",
       "          -1.13938123e+00,  -1.12984566e+00,  -1.12041173e+00,\n",
       "          -1.11107648e+00,  -1.10183707e+00,  -1.09269077e+00,\n",
       "          -1.08363498e+00,  -1.07466719e+00,  -1.06578501e+00,\n",
       "          -1.05698612e+00,  -1.04826831e+00,  -1.03962946e+00,\n",
       "          -1.03106750e+00,  -1.02258046e+00,  -1.01416645e+00,\n",
       "          -1.00582364e+00,  -9.97550247e-01,  -9.89344581e-01,\n",
       "          -9.81204996e-01,  -9.73129904e-01,  -9.65117774e-01,\n",
       "          -9.57167125e-01,  -9.49276525e-01,  -9.41444591e-01,\n",
       "          -9.33669982e-01,  -9.25951403e-01,  -9.18287599e-01,\n",
       "          -9.10677353e-01,  -9.03119487e-01,  -8.95612861e-01,\n",
       "          -8.88156365e-01,  -8.80748927e-01,  -8.73389502e-01,\n",
       "          -8.66077081e-01,  -8.58810678e-01,  -8.51589342e-01,\n",
       "          -8.44412143e-01,  -8.37278180e-01,  -8.30186576e-01,\n",
       "          -8.23136480e-01,  -8.16127061e-01,  -8.09157513e-01,\n",
       "          -8.02227049e-01,  -7.95334905e-01,  -7.88480336e-01,\n",
       "          -7.81662614e-01,  -7.74881033e-01,  -7.68134903e-01,\n",
       "          -7.61423551e-01,  -7.54746322e-01,  -7.48102575e-01,\n",
       "          -7.41491685e-01,  -7.34913044e-01,  -7.28366057e-01,\n",
       "          -7.21850142e-01,  -7.15364731e-01,  -7.08909270e-01,\n",
       "          -7.02483218e-01,  -6.96086043e-01,  -6.89717230e-01,\n",
       "          -6.83376271e-01,  -6.77062670e-01,  -6.70775943e-01,\n",
       "          -6.64515617e-01,  -6.58281226e-01,  -6.52072317e-01,\n",
       "          -6.45888445e-01,  -6.39729174e-01,  -6.33594076e-01,\n",
       "          -6.27482735e-01,  -6.21394740e-01,  -6.15329690e-01,\n",
       "          -6.09287191e-01,  -6.03266856e-01,  -5.97268307e-01,\n",
       "          -5.91291174e-01,  -5.85335090e-01,  -5.79399700e-01,\n",
       "          -5.73484651e-01,  -5.67589599e-01,  -5.61714207e-01,\n",
       "          -5.55858142e-01,  -5.50021077e-01,  -5.44202692e-01,\n",
       "          -5.38402673e-01,  -5.32620709e-01,  -5.26856497e-01,\n",
       "          -5.21109737e-01,  -5.15380136e-01,  -5.09667405e-01,\n",
       "          -5.03971258e-01,  -4.98291417e-01,  -4.92627606e-01,\n",
       "          -4.86979553e-01,  -4.81346993e-01,  -4.75729663e-01,\n",
       "          -4.70127305e-01,  -4.64539663e-01,  -4.58966488e-01,\n",
       "          -4.53407532e-01,  -4.47862553e-01,  -4.42331309e-01,\n",
       "          -4.36813566e-01,  -4.31309089e-01,  -4.25817651e-01,\n",
       "          -4.20339023e-01,  -4.14872983e-01,  -4.09419311e-01,\n",
       "          -4.03977788e-01,  -3.98548202e-01,  -3.93130339e-01,\n",
       "          -3.87723992e-01,  -3.82328953e-01,  -3.76945020e-01,\n",
       "          -3.71571992e-01,  -3.66209669e-01,  -3.60857856e-01,\n",
       "          -3.55516359e-01,  -3.50184986e-01,  -3.44863547e-01,\n",
       "          -3.39551857e-01,  -3.34249730e-01,  -3.28956983e-01,\n",
       "          -3.23673435e-01,  -3.18398908e-01,  -3.13133223e-01,\n",
       "          -3.07876207e-01,  -3.02627686e-01,  -2.97387487e-01,\n",
       "          -2.92155443e-01,  -2.86931384e-01,  -2.81715143e-01,\n",
       "          -2.76506557e-01,  -2.71305462e-01,  -2.66111695e-01,\n",
       "          -2.60925097e-01,  -2.55745509e-01,  -2.50572773e-01,\n",
       "          -2.45406732e-01,  -2.40247233e-01,  -2.35094122e-01,\n",
       "          -2.29947246e-01,  -2.24806454e-01,  -2.19671596e-01,\n",
       "          -2.14542524e-01,  -2.09419090e-01,  -2.04301147e-01,\n",
       "          -1.99188550e-01,  -1.94081154e-01,  -1.88978816e-01,\n",
       "          -1.83881393e-01,  -1.78788743e-01,  -1.73700727e-01,\n",
       "          -1.68617203e-01,  -1.63538032e-01,  -1.58463078e-01,\n",
       "          -1.53392201e-01,  -1.48325265e-01,  -1.43262135e-01,\n",
       "          -1.38202675e-01,  -1.33146749e-01,  -1.28094226e-01,\n",
       "          -1.23044970e-01,  -1.17998849e-01,  -1.12955731e-01,\n",
       "          -1.07915484e-01,  -1.02877978e-01,  -9.78430801e-02,\n",
       "          -9.28106619e-02,  -8.77805930e-02,  -8.27527442e-02,\n",
       "          -7.77269864e-02,  -7.27031911e-02,  -6.76812301e-02,\n",
       "          -6.26609755e-02,  -5.76422995e-02,  -5.26250751e-02,\n",
       "          -4.76091750e-02,  -4.25944724e-02,  -3.75808407e-02,\n",
       "          -3.25681535e-02,  -2.75562846e-02,  -2.25451077e-02,\n",
       "          -1.75344969e-02,  -1.25243263e-02,  -7.51447003e-03,\n",
       "          -2.50480239e-03,   2.50480239e-03,   7.51447003e-03,\n",
       "           1.25243263e-02,   1.75344969e-02,   2.25451077e-02,\n",
       "           2.75562846e-02,   3.25681535e-02,   3.75808407e-02,\n",
       "           4.25944724e-02,   4.76091750e-02,   5.26250751e-02,\n",
       "           5.76422995e-02,   6.26609755e-02,   6.76812301e-02,\n",
       "           7.27031911e-02,   7.77269864e-02,   8.27527442e-02,\n",
       "           8.77805930e-02,   9.28106619e-02,   9.78430801e-02,\n",
       "           1.02877978e-01,   1.07915484e-01,   1.12955731e-01,\n",
       "           1.17998849e-01,   1.23044970e-01,   1.28094226e-01,\n",
       "           1.33146749e-01,   1.38202675e-01,   1.43262135e-01,\n",
       "           1.48325265e-01,   1.53392201e-01,   1.58463078e-01,\n",
       "           1.63538032e-01,   1.68617203e-01,   1.73700727e-01,\n",
       "           1.78788743e-01,   1.83881393e-01,   1.88978816e-01,\n",
       "           1.94081154e-01,   1.99188550e-01,   2.04301147e-01,\n",
       "           2.09419090e-01,   2.14542524e-01,   2.19671596e-01,\n",
       "           2.24806454e-01,   2.29947246e-01,   2.35094122e-01,\n",
       "           2.40247233e-01,   2.45406732e-01,   2.50572773e-01,\n",
       "           2.55745509e-01,   2.60925097e-01,   2.66111695e-01,\n",
       "           2.71305462e-01,   2.76506557e-01,   2.81715143e-01,\n",
       "           2.86931384e-01,   2.92155443e-01,   2.97387487e-01,\n",
       "           3.02627686e-01,   3.07876207e-01,   3.13133223e-01,\n",
       "           3.18398908e-01,   3.23673435e-01,   3.28956983e-01,\n",
       "           3.34249730e-01,   3.39551857e-01,   3.44863547e-01,\n",
       "           3.50184986e-01,   3.55516359e-01,   3.60857856e-01,\n",
       "           3.66209669e-01,   3.71571992e-01,   3.76945020e-01,\n",
       "           3.82328953e-01,   3.87723992e-01,   3.93130339e-01,\n",
       "           3.98548202e-01,   4.03977788e-01,   4.09419311e-01,\n",
       "           4.14872983e-01,   4.20339023e-01,   4.25817651e-01,\n",
       "           4.31309089e-01,   4.36813566e-01,   4.42331309e-01,\n",
       "           4.47862553e-01,   4.53407532e-01,   4.58966488e-01,\n",
       "           4.64539663e-01,   4.70127305e-01,   4.75729663e-01,\n",
       "           4.81346993e-01,   4.86979553e-01,   4.92627606e-01,\n",
       "           4.98291417e-01,   5.03971258e-01,   5.09667405e-01,\n",
       "           5.15380136e-01,   5.21109737e-01,   5.26856497e-01,\n",
       "           5.32620709e-01,   5.38402673e-01,   5.44202692e-01,\n",
       "           5.50021077e-01,   5.55858142e-01,   5.61714207e-01,\n",
       "           5.67589599e-01,   5.73484651e-01,   5.79399700e-01,\n",
       "           5.85335090e-01,   5.91291174e-01,   5.97268307e-01,\n",
       "           6.03266856e-01,   6.09287191e-01,   6.15329690e-01,\n",
       "           6.21394740e-01,   6.27482735e-01,   6.33594076e-01,\n",
       "           6.39729174e-01,   6.45888445e-01,   6.52072317e-01,\n",
       "           6.58281226e-01,   6.64515617e-01,   6.70775943e-01,\n",
       "           6.77062670e-01,   6.83376271e-01,   6.89717230e-01,\n",
       "           6.96086043e-01,   7.02483218e-01,   7.08909270e-01,\n",
       "           7.15364731e-01,   7.21850142e-01,   7.28366057e-01,\n",
       "           7.34913044e-01,   7.41491685e-01,   7.48102575e-01,\n",
       "           7.54746322e-01,   7.61423551e-01,   7.68134903e-01,\n",
       "           7.74881033e-01,   7.81662614e-01,   7.88480336e-01,\n",
       "           7.95334905e-01,   8.02227049e-01,   8.09157513e-01,\n",
       "           8.16127061e-01,   8.23136480e-01,   8.30186576e-01,\n",
       "           8.37278180e-01,   8.44412143e-01,   8.51589342e-01,\n",
       "           8.58810678e-01,   8.66077081e-01,   8.73389502e-01,\n",
       "           8.80748927e-01,   8.88156365e-01,   8.95612861e-01,\n",
       "           9.03119487e-01,   9.10677353e-01,   9.18287599e-01,\n",
       "           9.25951403e-01,   9.33669982e-01,   9.41444591e-01,\n",
       "           9.49276525e-01,   9.57167125e-01,   9.65117774e-01,\n",
       "           9.73129904e-01,   9.81204996e-01,   9.89344581e-01,\n",
       "           9.97550247e-01,   1.00582364e+00,   1.01416645e+00,\n",
       "           1.02258046e+00,   1.03106750e+00,   1.03962946e+00,\n",
       "           1.04826831e+00,   1.05698612e+00,   1.06578501e+00,\n",
       "           1.07466719e+00,   1.08363498e+00,   1.09269077e+00,\n",
       "           1.10183707e+00,   1.11107648e+00,   1.12041173e+00,\n",
       "           1.12984566e+00,   1.13938123e+00,   1.14902154e+00,\n",
       "           1.15876983e+00,   1.16862950e+00,   1.17860411e+00,\n",
       "           1.18869738e+00,   1.19891322e+00,   1.20925574e+00,\n",
       "           1.21972926e+00,   1.23033831e+00,   1.24108768e+00,\n",
       "           1.25198239e+00,   1.26302778e+00,   1.27422944e+00,\n",
       "           1.28559331e+00,   1.29712567e+00,   1.30883317e+00,\n",
       "           1.32072287e+00,   1.33280226e+00,   1.34507932e+00,\n",
       "           1.35756253e+00,   1.37026095e+00,   1.38318426e+00,\n",
       "           1.39634279e+00,   1.40974764e+00,   1.42341071e+00,\n",
       "           1.43734479e+00,   1.45156367e+00,   1.46608224e+00,\n",
       "           1.48091659e+00,   1.49608418e+00,   1.51160399e+00,\n",
       "           1.52749667e+00,   1.54378481e+00,   1.56049314e+00,\n",
       "           1.57764883e+00,   1.59528183e+00,   1.61342528e+00,\n",
       "           1.63211595e+00,   1.65139483e+00,   1.67130780e+00,\n",
       "           1.69190643e+00,   1.71324904e+00,   1.73540186e+00,\n",
       "           1.75844061e+00,   1.78245240e+00,   1.80753820e+00,\n",
       "           1.83381593e+00,   1.86142459e+00,   1.89052965e+00,\n",
       "           1.92133033e+00,   1.95406954e+00,   1.98904794e+00,\n",
       "           2.02664403e+00,   2.06734403e+00,   2.11178767e+00,\n",
       "           2.16084152e+00,   2.21572267e+00,   2.27822091e+00,\n",
       "           2.35113311e+00,   2.43921385e+00,   2.55162541e+00,\n",
       "           2.71015927e+00,   2.99209858e+00]),\n",
       "  array([ 11.1824434 ,  11.18473822,  11.18830521,  11.19382261,\n",
       "          11.20258369,  11.20325492,  11.20355363,  11.20505423,\n",
       "          11.20609094,  11.20625611,  11.2079043 ,  11.21138343,\n",
       "          11.21287699,  11.21341468,  11.2142827 ,  11.21573761,\n",
       "          11.21579735,  11.21644749,  11.21674621,  11.21906563,\n",
       "          11.21948031,  11.21979308,  11.22034833,  11.22213007,\n",
       "          11.22245338,  11.22327924,  11.22662131,  11.22713439,\n",
       "          11.22731011,  11.22771776,  11.22815002,  11.22822382,\n",
       "          11.2283187 ,  11.22885287,  11.22957681,  11.22997744,\n",
       "          11.23038158,  11.23081032,  11.23154129,  11.23157292,\n",
       "          11.23189623,  11.23309108,  11.23465845,  11.23483065,\n",
       "          11.23608524,  11.23640153,  11.23664401,  11.23698138,\n",
       "          11.23704112,  11.23742769,  11.23755772,  11.23802863,\n",
       "          11.23852766,  11.23865417,  11.23902669,  11.23916726,\n",
       "          11.23991228,  11.23992283,  11.24141639,  11.24158508,\n",
       "          11.24160968,  11.24163779,  11.24169753,  11.24231605,\n",
       "          11.24278344,  11.24281859,  11.24329653,  11.24353901,\n",
       "          11.24396424,  11.24425592,  11.24438244,  11.24446327,\n",
       "          11.24460384,  11.24470224,  11.24473035,  11.24482172,\n",
       "          11.24492715,  11.24534183,  11.24545078,  11.24585492,\n",
       "          11.24586195,  11.24649803,  11.24708843,  11.2472782 ,\n",
       "          11.24735551,  11.24748202,  11.2476472 ,  11.24791779,\n",
       "          11.24809351,  11.24811811,  11.24844845,  11.24918996,\n",
       "          11.2492497 ,  11.2493727 ,  11.25008259,  11.25017747,\n",
       "          11.25060621,  11.25065541,  11.25088735,  11.2511193 ,\n",
       "          11.25147775,  11.25171321,  11.25188541,  11.25189244,\n",
       "          11.25201895,  11.25222981,  11.25248986,  11.25299943,\n",
       "          11.25305566,  11.25328409,  11.25384637,  11.25398343,\n",
       "          11.2544684 ,  11.25458085,  11.25487605,  11.25488659,\n",
       "          11.25505528,  11.25508691,  11.25525559,  11.25577219,\n",
       "          11.25590925,  11.25621147,  11.2565875 ,  11.25684404,\n",
       "          11.25686513,  11.25702679,  11.25707247,  11.2574977 ,\n",
       "          11.2575223 ,  11.25800024,  11.25810215,  11.25842898,\n",
       "          11.25844304,  11.25859415,  11.25865741,  11.25881555,\n",
       "          11.25891746,  11.25895964,  11.25947623,  11.25970466,\n",
       "          11.25977846,  11.25985577,  11.26035129,  11.2605024 ,\n",
       "          11.26053403,  11.26064649,  11.26068163,  11.26083977,\n",
       "          11.26097331,  11.2612896 ,  11.2613634 ,  11.26144071,\n",
       "          11.26180619,  11.26218222,  11.26227359,  11.26281479,\n",
       "          11.26318028,  11.26321893,  11.26322947,  11.26338762,\n",
       "          11.26359496,  11.26368633,  11.2644419 ,  11.26454381,\n",
       "          11.26457544,  11.2647617 ,  11.26483901,  11.26504284,\n",
       "          11.26541184,  11.26546455,  11.26611821,  11.26614281,\n",
       "          11.26634312,  11.26644152,  11.26677186,  11.26709869,\n",
       "          11.26725683,  11.26732009,  11.26743254,  11.26772071,\n",
       "          11.267791  ,  11.26825137,  11.26838843,  11.26864848,\n",
       "          11.26938648,  11.26955165,  11.26982225,  11.26989956,\n",
       "          11.27000499,  11.27000499,  11.2701069 ,  11.27039156,\n",
       "          11.27042319,  11.27065162,  11.27087302,  11.27089762,\n",
       "          11.2709679 ,  11.27140016,  11.27146341,  11.27182538,\n",
       "          11.2718535 ,  11.27223655,  11.27256338,  11.27274261,\n",
       "          11.27291481,  11.27308701,  11.27322758,  11.27336815,\n",
       "          11.27396909,  11.2742924 ,  11.27455597,  11.27467546,\n",
       "          11.27471411,  11.27503743,  11.27530451,  11.27552942,\n",
       "          11.27571217,  11.27575082,  11.27606359,  11.27607765,\n",
       "          11.27635879,  11.27653802,  11.27671373,  11.27682971,\n",
       "          11.27694568,  11.2769527 ,  11.2769773 ,  11.27720573,\n",
       "          11.27725142,  11.27727602,  11.27733927,  11.27770827,\n",
       "          11.2779121 ,  11.2780597 ,  11.27836544,  11.27838301,\n",
       "          11.27846033,  11.27860793,  11.27994686,  11.28058646,\n",
       "          11.28083246,  11.28117334,  11.2812612 ,  11.28151072,\n",
       "          11.28184106,  11.28203434,  11.28229088,  11.28238577,\n",
       "          11.28250877,  11.28252634,  11.28253688,  11.28272314,\n",
       "          11.28278991,  11.28314134,  11.28398828,  11.28416399,\n",
       "          11.28446973,  11.28469816,  11.28474033,  11.28484927,\n",
       "          11.2850285 ,  11.28556267,  11.28580515,  11.28592464,\n",
       "          11.2860125 ,  11.28606521,  11.28624444,  11.28626904,\n",
       "          11.2863077 ,  11.28664507,  11.28678915,  11.28686295,\n",
       "          11.28696838,  11.28699298,  11.28710895,  11.28711949,\n",
       "          11.28720735,  11.28752363,  11.28766772,  11.28801563,\n",
       "          11.28801915,  11.28806483,  11.28822649,  11.2882546 ,\n",
       "          11.28858143,  11.28905937,  11.28936863,  11.28947405,\n",
       "          11.28947405,  11.2894846 ,  11.29010311,  11.29016637,\n",
       "          11.29018042,  11.29076379,  11.29080245,  11.29098871,\n",
       "          11.29106602,  11.2914315 ,  11.29150179,  11.29210976,\n",
       "          11.29266853,  11.29273178,  11.29294967,  11.2932765 ,\n",
       "          11.29331515,  11.29344518,  11.29394069,  11.29416209,\n",
       "          11.29428158,  11.29433781,  11.29509689,  11.29521989,\n",
       "          11.29547994,  11.29560294,  11.29560294,  11.29567323,\n",
       "          11.29593329,  11.29605277,  11.29621091,  11.29674157,\n",
       "          11.29675211,  11.29711759,  11.29722302,  11.29742685,\n",
       "          11.29763068,  11.29792939,  11.29811565,  11.2981543 ,\n",
       "          11.29825973,  11.29829136,  11.29831596,  11.29833353,\n",
       "          11.29864279,  11.2987939 ,  11.29890284,  11.29922616,\n",
       "          11.29926833,  11.29961273,  11.29963381,  11.29964787,\n",
       "          11.29983413,  11.29996415,  11.30047021,  11.30052292,\n",
       "          11.30085678,  11.30089544,  11.30102546,  11.30107466,\n",
       "          11.30115198,  11.30138743,  11.30154558,  11.30205866,\n",
       "          11.30206217,  11.30224492,  11.30304968,  11.30406531,\n",
       "          11.30407234,  11.30417074,  11.30423399,  11.30444134,\n",
       "          11.30509851,  11.30533396,  11.30537613,  11.3056151 ,\n",
       "          11.30621253,  11.30638121,  11.3064023 ,  11.3066237 ,\n",
       "          11.3067467 ,  11.30696458,  11.30697513,  11.30702433,\n",
       "          11.30723167,  11.30758309,  11.30762527,  11.30769907,\n",
       "          11.30774827,  11.30777638,  11.30783261,  11.30794155,\n",
       "          11.30805401,  11.30807158,  11.30812781,  11.30849329,\n",
       "          11.30862683,  11.30909775,  11.30965652,  11.30980763,\n",
       "          11.30995171,  11.31005011,  11.31013094,  11.31022583,\n",
       "          11.31023988,  11.31073891,  11.31076702,  11.31091814,\n",
       "          11.31153665,  11.31211651,  11.3121903 ,  11.31226762,\n",
       "          11.31240116,  11.3129529 ,  11.3130759 ,  11.31313213,\n",
       "          11.31313213,  11.31350113,  11.31362061,  11.31378578,\n",
       "          11.31448864,  11.3145765 ,  11.31662532,  11.31675183,\n",
       "          11.3168432 ,  11.3173352 ,  11.31745117,  11.3177042 ,\n",
       "          11.31774285,  11.31789045,  11.31813997,  11.31905368,\n",
       "          11.31961947,  11.31993224,  11.32042424,  11.32091624,\n",
       "          11.3211517 ,  11.32129227,  11.3215207 ,  11.32158395,\n",
       "          11.32161558,  11.32216029,  11.32217786,  11.32259958,\n",
       "          11.323443  ,  11.32429697,  11.32484168,  11.32580811,\n",
       "          11.32588893,  11.32591002,  11.32596625,  11.32616305,\n",
       "          11.32656719,  11.32761444,  11.32796236,  11.32822593,\n",
       "          11.32949809,  11.3303134 ,  11.33039775,  11.33050669,\n",
       "          11.33194402,  11.33224977,  11.33308616,  11.33376442,\n",
       "          11.33431967,  11.33487844,  11.33491358,  11.33536341,\n",
       "          11.33593272,  11.33637552,  11.33695186,  11.33701863,\n",
       "          11.33731383,  11.337971  ,  11.33971408,  11.34042045,\n",
       "          11.34072267,  11.34170316,  11.34221624,  11.34325646,\n",
       "          11.34401203,  11.344128  ,  11.3461698 ,  11.34617682,\n",
       "          11.34640174,  11.34911476,  11.3497649 ,  11.34978598,\n",
       "          11.35071023,  11.3522776 ,  11.35456188,  11.35491682,\n",
       "          11.35499413,  11.35563021,  11.35623818,  11.35998088,\n",
       "          11.36001603,  11.36725542,  11.36806371,  11.36816211,\n",
       "          11.3690477 ,  11.37050261,  11.37085404,  11.37088215,\n",
       "          11.37353191,  11.37428748,  11.37443508,  11.37471271,\n",
       "          11.3776155 ,  11.37896849,  11.38956402,  11.39341215])),\n",
       " (0.037774667185630967, 11.283244614378994, 0.99797483646042018))"
      ]
     },
     "execution_count": 70,
     "metadata": {},
     "output_type": "execute_result"
    },
    {
     "data": {
      "image/png": "[encoded data removed]",
      "text/plain": [
       "<matplotlib.figure.Figure at 0x11a4c0a90>"
      ]
     },
     "metadata": {},
     "output_type": "display_data"
    }
   ],
   "source": [
    "#3. Для получившегося вектора средних значений из n_boot_samples постройте q-q plot \n",
    "#с помощью scipy.stats.probplot для нормального распределения\n",
    "pylab.figure(figsize=(12,8))\n",
    "pylab.subplot(2,2,1)\n",
    "stats.probplot(control_clicks_mean_scores, dist=\"norm\", plot=pylab)"
   ]
  },
  {
   "cell_type": "code",
   "execution_count": 62,
   "metadata": {
    "collapsed": true
   },
   "outputs": [],
   "source": [
    "n = len(clicks_ctrl)"
   ]
  },
  {
   "cell_type": "code",
   "execution_count": 63,
   "metadata": {
    "collapsed": false
   },
   "outputs": [
    {
     "data": {
      "text/plain": [
       "((array([ 282301.08823052,  282512.70968151,  282631.75042717,\n",
       "          282716.17888969,  282782.3450597 ,  282837.12445286,\n",
       "          282884.08540284,  282925.32718789,  282962.19330369,\n",
       "          282995.59740261,  283026.19007273,  283054.45161344,\n",
       "          283080.74708391,  283105.36069051,  283128.51819018,\n",
       "          283150.40200679,  283171.16173792,  283190.92164617,\n",
       "          283209.78611976,  283227.84373074,  283245.17030322,\n",
       "          283261.83126848,  283277.88349787,  283293.37674667,\n",
       "          283308.35480452,  283322.85642111,  283336.91605832,\n",
       "          283350.56450624,  283363.82939197,  283376.73560265,\n",
       "          283389.30563983,  283401.55991797,  283413.51701739,\n",
       "          283425.19389989,  283436.60609342,  283447.76785089,\n",
       "          283458.69228763,  283469.39150054,  283479.87667212,\n",
       "          283490.1581613 ,  283500.24558336,  283510.1478802 ,\n",
       "          283519.87338258,  283529.42986513,  283538.82459547,\n",
       "          283548.06437779,  283557.15559197,  283566.10422857,\n",
       "          283574.91592026,  283583.59597014,  283592.14937729,\n",
       "          283600.58085989,  283608.89487613,  283617.09564327,\n",
       "          283625.18715487,  283633.17319664,  283641.05736073,\n",
       "          283648.84305896,  283656.53353485,  283664.13187467,\n",
       "          283671.64101759,  283679.06376506,  283686.40278937,\n",
       "          283693.66064164,  283700.83975913,  283707.94247203,\n",
       "          283714.97100975,  283721.92750678,  283728.81400805,\n",
       "          283735.63247398,  283742.38478517,  283749.07274675,\n",
       "          283755.69809245,  283762.26248835,  283768.7675365 ,\n",
       "          283775.21477815,  283781.6056969 ,  283787.94172159,\n",
       "          283794.22422902,  283800.45454649,  283806.63395424,\n",
       "          283812.76368764,  283818.84493939,  283824.87886143,\n",
       "          283830.86656689,  283836.80913182,  283842.70759689,\n",
       "          283848.56296894,  283854.37622248,  283860.14830114,\n",
       "          283865.88011892,  283871.57256154,  283877.22648757,\n",
       "          283882.84272959,  283888.42209528,  283893.96536839,\n",
       "          283899.47330977,  283904.94665822,  283910.38613142,\n",
       "          283915.79242674,  283921.16622202,  283926.50817633,\n",
       "          283931.81893069,  283937.09910875,  283942.34931743,\n",
       "          283947.57014755,  283952.76217443,  283957.92595842,\n",
       "          283963.06204549,  283968.17096771,  283973.25324374,\n",
       "          283978.30937933,  283983.33986774,  283988.34519019,\n",
       "          283993.32581627,  283998.28220432,  284003.21480183,\n",
       "          284008.1240458 ,  284013.01036307,  284017.87417068,\n",
       "          284022.71587615,  284027.53587786,  284032.33456525,\n",
       "          284037.11231919,  284041.8695122 ,  284046.60650874,\n",
       "          284051.32366544,  284056.02133135,  284060.6998482 ,\n",
       "          284065.35955058,  284070.00076617,  284074.62381599,\n",
       "          284079.22901454,  284083.81667002,  284088.38708453,\n",
       "          284092.94055423,  284097.47736951,  284101.99781517,\n",
       "          284106.5021706 ,  284110.9907099 ,  284115.46370202,\n",
       "          284119.92141097,  284124.3640959 ,  284128.79201125,\n",
       "          284133.20540691,  284137.6045283 ,  284141.98961654,\n",
       "          284146.36090853,  284150.71863708,  284155.06303103,\n",
       "          284159.39431535,  284163.71271124,  284168.01843623,\n",
       "          284172.3117043 ,  284176.59272594,  284180.86170828,\n",
       "          284185.11885513,  284189.36436712,  284193.59844176,\n",
       "          284197.8212735 ,  284202.03305385,  284206.23397143,\n",
       "          284210.42421205,  284214.60395878,  284218.77339204,\n",
       "          284222.93268964,  284227.08202685,  284231.22157649,\n",
       "          284235.35150896,  284239.47199235,  284243.58319242,\n",
       "          284247.68527274,  284251.77839469,  284255.86271755,\n",
       "          284259.93839852,  284264.00559282,  284268.06445369,\n",
       "          284272.11513246,  284276.1577786 ,  284280.19253978,\n",
       "          284284.21956188,  284288.23898907,  284292.25096383,\n",
       "          284296.25562702,  284300.25311788,  284304.2435741 ,\n",
       "          284308.22713187,  284312.20392588,  284316.17408939,\n",
       "          284320.13775425,  284324.09505096,  284328.04610865,\n",
       "          284331.9910552 ,  284335.93001719,  284339.86311998,\n",
       "          284343.79048773,  284347.71224344,  284351.62850896,\n",
       "          284355.53940504,  284359.44505137,  284363.34556655,\n",
       "          284367.2410682 ,  284371.13167294,  284375.01749643,\n",
       "          284378.89865337,  284382.77525757,  284386.64742196,\n",
       "          284390.51525859,  284394.37887871,  284398.23839273,\n",
       "          284402.09391029,  284405.94554027,  284409.7933908 ,\n",
       "          284413.63756931,  284417.47818253,  284421.31533653,\n",
       "          284425.14913672,  284428.9796879 ,  284432.80709425,\n",
       "          284436.63145937,  284440.45288631,  284444.27147757,\n",
       "          284448.08733512,  284451.90056045,  284455.71125455,\n",
       "          284459.51951795,  284463.32545074,  284467.1291526 ,\n",
       "          284470.93072277,  284474.73026015,  284478.52786324,\n",
       "          284482.3236302 ,  284486.11765885,  284489.91004673,\n",
       "          284493.70089104,  284497.49028873,  284501.27833648,\n",
       "          284505.06513075,  284508.85076774,  284512.63534346,\n",
       "          284516.41895375,  284520.20169424,  284523.98366043,\n",
       "          284527.76494767,  284531.54565119,  284535.32586611,\n",
       "          284539.10568748,  284542.88521026,  284546.66452935,\n",
       "          284550.44373963,  284554.22293588,  284558.00221305,\n",
       "          284561.78166602,  284565.56138972,  284569.34147863,\n",
       "          284573.12202838,  284576.90313374,  284580.68488979,\n",
       "          284584.4673919 ,  284588.25073558,  284592.03501622,\n",
       "          284595.82032962,  284599.6067715 ,  284603.39443829,\n",
       "          284607.18342617,  284610.97383139,  284614.76575107,\n",
       "          284618.5592823 ,  284622.35452197,  284626.15156826,\n",
       "          284629.95051876,  284633.75147193,  284637.55452661,\n",
       "          284641.35978143,  284645.16733589,  284648.97729007,\n",
       "          284652.78974421,  284656.60479855,  284660.42255482,\n",
       "          284664.24311463,  284668.06657994,  284671.89305361,\n",
       "          284675.72263881,  284679.5554394 ,  284683.39155981,\n",
       "          284687.23110514,  284691.07418088,  284694.92089371,\n",
       "          284698.77135014,  284702.6256582 ,  284706.48392634,\n",
       "          284710.34626357,  284714.21277988,  284718.08358599,\n",
       "          284721.95879349,  284725.83851488,  284729.72286302,\n",
       "          284733.61195243,  284737.50589825,  284741.40481611,\n",
       "          284745.30882337,  284749.21803794,  284753.13257877,\n",
       "          284757.05256582,  284760.97812061,  284764.9093651 ,\n",
       "          284768.84642273,  284772.78941837,  284776.7384775 ,\n",
       "          284780.69372756,  284784.65529659,  284788.62331428,\n",
       "          284792.59791181,  284796.57922118,  284800.56737649,\n",
       "          284804.56251308,  284808.56476733,  284812.57427769,\n",
       "          284816.59118407,  284820.6156278 ,  284824.64775184,\n",
       "          284828.68770116,  284832.73562225,  284836.7916635 ,\n",
       "          284840.85597492,  284844.92870841,  284849.01001805,\n",
       "          284853.10006   ,  284857.19899184,  284861.30697355,\n",
       "          284865.42416761,  284869.55073798,  284873.68685152,\n",
       "          284877.83267696,  284881.98838561,  284886.15415097,\n",
       "          284890.33014955,  284894.51655955,  284898.71356263,\n",
       "          284902.92134273,  284907.1400865 ,  284911.36998361,\n",
       "          284915.6112265 ,  284919.86401081,  284924.12853475,\n",
       "          284928.40500036,  284932.69361222,  284936.99457869,\n",
       "          284941.30811142,  284945.63442553,  284949.97373971,\n",
       "          284954.32627647,  284958.69226171,  284963.07192596,\n",
       "          284967.46550303,  284971.87323122,  284976.29535295,\n",
       "          284980.73211511,  284985.1837689 ,  284989.65057038,\n",
       "          284994.13278007,  284998.63066342,  285003.14449101,\n",
       "          285007.67453884,  285012.22108735,  285016.78442333,\n",
       "          285021.36483892,  285025.96263192,  285030.5781063 ,\n",
       "          285035.21157217,  285039.8633456 ,  285044.53374988,\n",
       "          285049.22311467,  285053.93177624,  285058.66007876,\n",
       "          285063.40837335,  285068.17701866,  285072.96638148,\n",
       "          285077.77683692,  285082.60876777,  285087.46256607,\n",
       "          285092.33863283,  285097.237378  ,  285102.15922133,\n",
       "          285107.10459233,  285112.07393062,  285117.06768677,\n",
       "          285122.08632191,  285127.13030871,  285132.20013152,\n",
       "          285137.29628677,  285142.41928337,  285147.56964355,\n",
       "          285152.74790267,  285157.95461042,  285163.19033071,\n",
       "          285168.45564275,  285173.75114112,  285179.07743691,\n",
       "          285184.43515795,  285189.82494933,  285195.24747474,\n",
       "          285200.70341646,  285206.19347649,  285211.71837747,\n",
       "          285217.27886312,  285222.87569969,  285228.50967586,\n",
       "          285234.18160515,  285239.89232568,  285245.6427019 ,\n",
       "          285251.43362576,  285257.26601741,  285263.14082721,\n",
       "          285269.05903631,  285275.02165845,  285281.02974183,\n",
       "          285287.08436983,  285293.18666352,  285299.33778287,\n",
       "          285305.53892898,  285311.79134601,  285318.09632335,\n",
       "          285324.45519761,  285330.8693556 ,  285337.34023614,\n",
       "          285343.86933363,  285350.45820053,  285357.1084502 ,\n",
       "          285363.82176095,  285370.59987918,  285377.44462285,\n",
       "          285384.35788651,  285391.34164497,  285398.39795792,\n",
       "          285405.52897583,  285412.73694452,  285420.02421126,\n",
       "          285427.39323159,  285434.84657559,  285442.38693545,\n",
       "          285450.01713365,  285457.7401315 ,  285465.55903849,\n",
       "          285473.47712259,  285481.49782146,  285489.62475476,\n",
       "          285497.86173691,  285506.21279218,  285514.68217007,\n",
       "          285523.27436317,  285531.99412617,  285540.84649685,\n",
       "          285549.83681958,  285558.97077108,  285568.25438875,\n",
       "          285577.69410262,  285587.29677053,  285597.06971777,\n",
       "          285607.02078053,  285617.15835618,  285627.49145821,\n",
       "          285638.02977911,  285648.78376144,  285659.76467812,\n",
       "          285670.98472463,  285682.45712343,  285694.19624417,\n",
       "          285706.21774291,  285718.53872156,  285731.17791509,\n",
       "          285744.15590841,  285757.49539182,  285771.2214624 ,\n",
       "          285785.36198134,  285799.94800109,  285815.01427872,\n",
       "          285830.59989762,  285846.74902681,  285863.51185507,\n",
       "          285880.94575255,  285899.11672766,  285918.10127817,\n",
       "          285937.98876837,  285958.88452696,  285980.91394468,\n",
       "          286004.22798799,  286029.01076447,  286055.49013346,\n",
       "          286083.95297305,  286114.76781014,  286148.41955654,\n",
       "          286185.56512398,  286227.12716329,  286274.46259759,\n",
       "          286329.69203883,  286396.4207913 ,  286481.59729032,\n",
       "          286601.75026261,  286815.51529803]),\n",
       "  array([ 391.9798706 ,  392.46085861,  393.33236613,  394.63591513,\n",
       "          395.31587262,  395.45763873,  396.13071079,  396.7471046 ,\n",
       "          397.29977458,  397.66437209,  398.44585459,  398.45929935,\n",
       "          398.630384  ,  398.88568082,  399.01725118,  399.08704296,\n",
       "          399.18385734,  399.38301939,  399.85981612,  399.92728222,\n",
       "          400.00841956,  400.10888005,  400.3016484 ,  400.35171632,\n",
       "          400.53861176,  400.544608  ,  400.79819756,  400.84238572,\n",
       "          400.87528194,  400.93498182,  401.09601074,  401.160221  ,\n",
       "          401.21300791,  401.30288837,  401.33136548,  401.35581664,\n",
       "          401.44042911,  401.47899811,  401.52068419,  401.52386695,\n",
       "          401.57967311,  401.60203938,  401.71654011,  401.74827492,\n",
       "          401.79227408,  401.877527  ,  401.89032692,  401.9692614 ,\n",
       "          401.97657607,  402.06497218,  402.07710387,  402.10794737,\n",
       "          402.10924743,  402.15134784,  402.23717921,  402.28825355,\n",
       "          402.46872924,  402.53928651,  402.58115374,  402.63732753,\n",
       "          402.75534941,  402.79904229,  402.8192655 ,  402.90605326,\n",
       "          403.09447168,  403.1178612 ,  403.2980162 ,  403.37594456,\n",
       "          403.4073277 ,  403.56946941,  403.68655945,  403.73536117,\n",
       "          403.79194223,  403.86914738,  403.88338542,  404.0417413 ,\n",
       "          404.18572441,  404.19420801,  404.2134676 ,  404.22081889,\n",
       "          404.2531312 ,  404.41141001,  404.50756505,  404.53828138,\n",
       "          404.62943551,  404.70435798,  404.73210413,  404.77158101,\n",
       "          404.87615031,  404.87669649,  405.09494676,  405.11124477,\n",
       "          405.18705584,  405.21244378,  405.26058751,  405.26552558,\n",
       "          405.27330006,  405.27611847,  405.33689204,  405.35833939,\n",
       "          405.37453964,  405.37930799,  405.4264834 ,  405.44832215,\n",
       "          405.49428759,  405.50354889,  405.52701732,  405.53767614,\n",
       "          405.54417606,  405.55378805,  405.60782253,  405.68856296,\n",
       "          405.73707828,  405.82790558,  405.82902889,  405.84361958,\n",
       "          405.901104  ,  405.91061759,  405.93393982,  405.9453737 ,\n",
       "          406.01348644,  406.17567219,  406.20466271,  406.25957579,\n",
       "          406.31806221,  406.43225758,  406.44470303,  406.45982989,\n",
       "          406.58356278,  406.61347432,  406.62672886,  406.69870996,\n",
       "          406.85289873,  406.89738045,  406.92744331,  407.01034344,\n",
       "          407.02944611,  407.06509243,  407.07112778,  407.09046534,\n",
       "          407.12073104,  407.16537279,  407.21002944,  407.2129272 ,\n",
       "          407.22200144,  407.23144216,  407.32354327,  407.37374341,\n",
       "          407.40813236,  407.41390197,  407.43103698,  407.46264204,\n",
       "          407.51920449,  407.53003416,  407.60779211,  407.6108623 ,\n",
       "          407.65700335,  407.68051195,  407.70772152,  407.77820718,\n",
       "          407.78986724,  407.8065259 ,  407.80662748,  407.92061133,\n",
       "          407.93295972,  408.11171296,  408.11759524,  408.16477904,\n",
       "          408.17687371,  408.19766483,  408.26043265,  408.2637089 ,\n",
       "          408.26675632,  408.27161299,  408.28758601,  408.33724849,\n",
       "          408.35986708,  408.41308686,  408.44436285,  408.44959118,\n",
       "          408.46955972,  408.47912078,  408.48550944,  408.56702474,\n",
       "          408.64137788,  408.67601235,  408.76743919,  408.82417325,\n",
       "          408.84658678,  408.94358079,  409.01175082,  409.08737071,\n",
       "          409.11825473,  409.12272939,  409.13657218,  409.14863582,\n",
       "          409.15690598,  409.31814878,  409.33228841,  409.35946317,\n",
       "          409.39077855,  409.39661863,  409.44249629,  409.4555318 ,\n",
       "          409.46366363,  409.55427795,  409.55516637,  409.76366939,\n",
       "          409.78562195,  409.88947373,  409.89978444,  409.91981957,\n",
       "          409.96857265,  409.97974306,  409.99971718,  410.01580003,\n",
       "          410.0387899 ,  410.13786817,  410.17133404,  410.18677032,\n",
       "          410.19436104,  410.20130078,  410.28807935,  410.29697598,\n",
       "          410.32484014,  410.4044701 ,  410.41857476,  410.42743702,\n",
       "          410.43971077,  410.44396014,  410.4633421 ,  410.46747922,\n",
       "          410.54858138,  410.64897296,  410.66568682,  410.68317933,\n",
       "          410.7031631 ,  410.71123553,  410.72311245,  410.75233659,\n",
       "          410.76443119,  410.77566068,  410.7793287 ,  410.79398083,\n",
       "          410.79758749,  410.82064301,  410.84161097,  410.85398324,\n",
       "          410.86364794,  410.90757443,  410.93130434,  410.93753771,\n",
       "          411.05681414,  411.09547344,  411.1011351 ,  411.11460156,\n",
       "          411.12412976,  411.13698074,  411.17746716,  411.24306389,\n",
       "          411.27075536,  411.29365026,  411.29881574,  411.3557461 ,\n",
       "          411.35930342,  411.38082876,  411.4953102 ,  411.50706814,\n",
       "          411.5272392 ,  411.54517418,  411.55918002,  411.61074387,\n",
       "          411.70367434,  411.76537921,  411.8326983 ,  411.83354638,\n",
       "          411.92324643,  412.0145564 ,  412.02252151,  412.08530947,\n",
       "          412.12692815,  412.18598889,  412.25864746,  412.26062787,\n",
       "          412.35058516,  412.3588717 ,  412.38868375,  412.39828744,\n",
       "          412.50057001,  412.5427761 ,  412.64081061,  412.64383595,\n",
       "          412.67499424,  412.74439466,  412.74966175,  412.7751869 ,\n",
       "          412.85739797,  412.88995977,  412.93442239,  412.93913148,\n",
       "          412.96200096,  412.96260748,  413.00306685,  413.00915322,\n",
       "          413.10096   ,  413.11648088,  413.17018485,  413.22524116,\n",
       "          413.23805962,  413.24804942,  413.33510719,  413.33729929,\n",
       "          413.36300946,  413.37391913,  413.41217743,  413.50305838,\n",
       "          413.51247633,  413.53657132,  413.55024506,  413.55787442,\n",
       "          413.58279922,  413.59055834,  413.59264929,  413.61018212,\n",
       "          413.68731063,  413.69898492,  413.73784655,  413.73855945,\n",
       "          413.83153886,  413.91232923,  413.92088473,  413.93462655,\n",
       "          413.97020892,  414.01165868,  414.05235279,  414.06617531,\n",
       "          414.12737153,  414.18704001,  414.24287472,  414.26043136,\n",
       "          414.28900615,  414.39243723,  414.45723587,  414.45850984,\n",
       "          414.5422068 ,  414.55569089,  414.57596893,  414.58886893,\n",
       "          414.61177322,  414.63007274,  414.63081565,  414.68029625,\n",
       "          414.84238407,  414.86021707,  414.8965913 ,  414.93166623,\n",
       "          414.93682054,  415.02927321,  415.0382955 ,  415.04053046,\n",
       "          415.05174395,  415.16067955,  415.33945063,  415.36843647,\n",
       "          415.435983  ,  415.43740886,  415.47611612,  415.48011222,\n",
       "          415.49058477,  415.51926514,  415.56885605,  415.59624324,\n",
       "          415.66610804,  415.66976536,  415.72687458,  415.76574347,\n",
       "          415.78601996,  415.81589334,  415.83615233,  415.84610707,\n",
       "          415.87307911,  416.39552738,  416.39589072,  416.42271237,\n",
       "          416.4334958 ,  416.46565559,  416.50322676,  416.52926937,\n",
       "          416.55825743,  416.57451198,  416.67409048,  416.72220821,\n",
       "          416.72652507,  416.78318989,  416.81229199,  416.81546138,\n",
       "          416.82286318,  416.82994008,  416.84470542,  416.89161619,\n",
       "          417.07561046,  417.12092889,  417.26887509,  417.40532699,\n",
       "          417.44455872,  417.61519556,  417.62646646,  417.62651539,\n",
       "          417.66329216,  417.68752461,  417.72695487,  417.80061494,\n",
       "          417.82755187,  417.83970532,  417.86589167,  417.89802949,\n",
       "          417.9551748 ,  417.97993031,  418.02086625,  418.06312638,\n",
       "          418.11585488,  418.33163846,  418.35128993,  418.42666555,\n",
       "          418.42684276,  418.50008913,  418.51406122,  418.71944735,\n",
       "          418.79221031,  418.80836358,  418.81861987,  418.83761929,\n",
       "          419.02502527,  419.04161264,  419.12975745,  419.1767861 ,\n",
       "          419.24218589,  419.2525122 ,  419.33774709,  419.34047833,\n",
       "          419.36078614,  419.6329025 ,  419.68105368,  419.73003619,\n",
       "          419.87321542,  419.97558923,  420.10420049,  420.18885886,\n",
       "          420.20504859,  420.27119335,  420.27873585,  420.31685849,\n",
       "          420.3412939 ,  420.36152938,  420.61673788,  420.87293793,\n",
       "          420.89524252,  420.9032591 ,  421.02213886,  421.13829049,\n",
       "          421.1986578 ,  421.25684554,  421.45643413,  421.54020093,\n",
       "          421.82871145,  421.94389985,  422.13944729,  422.14376423,\n",
       "          422.32028299,  422.48097193,  422.64904595,  422.75559225,\n",
       "          422.83907281,  423.11206313,  423.2773174 ,  423.49334509,\n",
       "          423.5739602 ,  423.82522607,  423.82791167,  424.0484108 ,\n",
       "          424.15382094,  424.16221955,  424.53697055,  424.93233913,\n",
       "          424.96136824,  425.3152099 ,  425.59975162,  425.75880215,\n",
       "          425.85921831,  425.90468112,  427.13917653,  427.62530616,\n",
       "          427.86725358,  428.04330511,  429.07802463,  429.3138363 ,\n",
       "          429.35202678,  429.39285489,  429.63863287,  430.94144786])),\n",
       " (0.0092794279942787425, -2229.2416193729896, 0.99868676892721164))"
      ]
     },
     "execution_count": 63,
     "metadata": {},
     "output_type": "execute_result"
    },
    {
     "data": {
      "image/png": "[encoded data removed]",
      "text/plain": [
       "<matplotlib.figure.Figure at 0x11a66a908>"
      ]
     },
     "metadata": {},
     "output_type": "display_data"
    }
   ],
   "source": [
    "#4 Для получившегося вектора сумм квадратов отклонения от выборочного среднего постройте qq-plot с помощью scipy.stats.probplot\n",
    "#для хи-квадрат распределения с помощью команды\n",
    "#Где sparams=(n-1) означают число степеней свободы = длине выборки - 1.\n",
    "scipy.stats.probplot(control_boot_chi_squared, dist=\"chi2\", \n",
    "                     sparams=(n-1), plot=plt)"
   ]
  },
  {
   "cell_type": "markdown",
   "metadata": {},
   "source": [
    "Почему мы проверяем именно такие условия?\n",
    "\n",
    "В исходной постановке t-критерий требует нормальности распределения Xi. Именно из-за этого предположения мы имеем, что\n",
    "$$ \\sum_i X_i  \\sim  \\mathcal{N}(n \\mu, n\\sigma^2 )$$\n",
    "в силу линейности матожидания, независимости всех Xi между собой и того факта, что сумма нескольких нормальных случайных величин также нормальна.\n",
    "\n",
    "Поэтому, пользуясь опять формальными свойствами матожидания и дисперсии можем записать, что \n",
    "\n",
    "$$\\frac{1}{n} \\sum_i X_i  - \\mu ~\\sim~ \\mathcal{N}(0,  \\frac{\\sigma^2}{n} )$$\n",
    "\n",
    "Заметим теперь, что следующие распределения эквивалентны $$\\mathcal{N} (0, \\frac{\\sigma^2}{n}) \\sim \\sqrt{\\frac{\\sigma^2}{n}} \\mathcal{N}(0, 1)$$\n",
    "То есть другими словами мы получили, что исходная статистика $$\\frac{\\bar{X} - \\mu}{ \\sqrt {S^2 / n}}$$ распределена как $$\\frac{ \\mathcal{N}(0, 1) } { \\sqrt {  \\frac{S^2n} { n  \\sigma^2} } }   ~\\sim~  \\frac{ \\mathcal{N}(0, 1) } { \\sqrt { \\frac{S^2} { \\sigma^2} } }$$\n",
    "Вспомним, что распределение Стьюдента с n−1 степенями свободы определяется как $$\\frac{ \\mathcal{N}(0, 1) } { \\sqrt { \\chi^2 / (n-1)  } }$$. Поэтому и требования, которые накладываются, имеют вид, указанный в начале этого вопроса.\n",
    "\n",
    "Полезно, однако, заметить, что можно подставить в числитель и знаменатель любые случайные величины, распределенные по нормальному закону и по Хи-квадрат соответственно, для этого необязательно, чтобы именно Xi были распределены нормально. Поэтому, если мы убедимся в том, что, действительно, числитель и знаменатель распределены образом, указанным выше, то можно смело использовать t-критерий Стьюдента."
   ]
  },
  {
   "cell_type": "code",
   "execution_count": null,
   "metadata": {
    "collapsed": true
   },
   "outputs": [],
   "source": [
    "\n",
    "v R2 для выборочного среднего получился больше, чем 0.99\n",
    "\n",
    "v R2 для выборочной суммы квадратов отклонения от выборочной суммы получился больше, чем 0.99"
   ]
  },
  {
   "cell_type": "markdown",
   "metadata": {},
   "source": [
    "TASK 5. \n",
    "Одним из возможных аналогов t-критерия, которым можно воспрользоваться, является тест Манна-Уитни. На достаточно обширном классе распределений он является асимптотически более эффективным, чем t-критерий, и при этом не требует параметрических предположений о характере распределения.\n",
    "\n",
    "Разделите выборку на две части, соответствующие control и exp группам. Преобразуйте данные к виду, чтобы каждому пользователю соответствовало суммарное значение его кликов. С помощью критерия Манна-Уитни проверьте гипотезу о равенстве средних. Что можно сказать о получившемся значении достигаемого уровня значимости ? Выберите все правильные ответы"
   ]
  },
  {
   "cell_type": "code",
   "execution_count": 73,
   "metadata": {
    "collapsed": false
   },
   "outputs": [],
   "source": [
    "mean_user_clicks_exp = data[data.slot == 'exp'].groupby('userID').aggregate(np.sum).n_clicks.tolist()"
   ]
  },
  {
   "cell_type": "code",
   "execution_count": 74,
   "metadata": {
    "collapsed": true
   },
   "outputs": [],
   "source": [
    "mean_user_clicks_ctrl = data[data.slot == 'control'].groupby('userID').aggregate(np.sum).n_clicks.tolist()"
   ]
  },
  {
   "cell_type": "markdown",
   "metadata": {},
   "source": [
    "\n",
    "Ранговый критерий Манна-Уитни\n",
    "$$H_0\\colon F_{X_1}(x) = F_{X_2}(x)$$\n",
    "$$H_1\\colon F_{X_1}(x) = F_{X_2}(x + \\Delta), \\Delta\\neq 0$$"
   ]
  },
  {
   "cell_type": "code",
   "execution_count": 76,
   "metadata": {
    "collapsed": false
   },
   "outputs": [
    {
     "data": {
      "text/plain": [
       "MannwhitneyuResult(statistic=38901259929.0, pvalue=4.3471471887604393e-75)"
      ]
     },
     "execution_count": 76,
     "metadata": {},
     "output_type": "execute_result"
    }
   ],
   "source": [
    "stats.mannwhitneyu(mean_user_clicks_exp,mean_user_clicks_ctrl)"
   ]
  },
  {
   "cell_type": "markdown",
   "metadata": {},
   "source": [
    "Перед нами значение статистики и p-value. p-value маленький, поэтому отвергаем нулевую гипотезу что медианы равны.\n",
    "Таким образом, мы смогли опровергнуть гипотезу о равенстве медиан в пользу не равенства медиан  с помощью критерия Манна-Уитни."
   ]
  },
  {
   "cell_type": "markdown",
   "metadata": {},
   "source": [
    "v Получившееся значение достигаемого уровня значимости свидетельствует о статистической значимости отличий между двумя выборками"
   ]
  },
  {
   "cell_type": "markdown",
   "metadata": {},
   "source": [
    "TASK 6 \n",
    "Проверьте, для какого из браузеров наиболее сильно выражено отличие между количеством кликов в контрольной и экспериментальной группах.\n",
    "\n",
    "Для этого примените для каждого из срезов (по каждому из уникальных значений столбца browser) критерий Манна-Уитни между control и exp группами и сделайте поправку Холма-Бонферрони на множественную проверку с α=0.05.\n",
    "\n",
    "Какое заключение можно сделать исходя из полученных результатов ?\n",
    "\n",
    "В качестве ответа введите количество незначимых изменений с точки зрения результатов, полученных после введения коррекции.=5\n"
   ]
  },
  {
   "cell_type": "code",
   "execution_count": 77,
   "metadata": {
    "collapsed": false
   },
   "outputs": [
    {
     "data": {
      "text/plain": [
       "Browser #4     156833\n",
       "Browser #22    142905\n",
       "Browser #2     110737\n",
       "Browser #14     89123\n",
       "Browser #20     33929\n",
       "Browser #17     32607\n",
       "Name: browser, dtype: int64"
      ]
     },
     "execution_count": 77,
     "metadata": {},
     "output_type": "execute_result"
    }
   ],
   "source": [
    "data.browser.value_counts()"
   ]
  },
  {
   "cell_type": "code",
   "execution_count": 78,
   "metadata": {
    "collapsed": true
   },
   "outputs": [],
   "source": [
    "p_values = []\n",
    "for brwsr in data.browser.value_counts().keys():\n",
    "    p_values.append(scipy.stats.mannwhitneyu(\n",
    "            data[(data.browser == brwsr) & (data.slot == 'exp')].n_clicks.values,\n",
    "            data[(data.browser == brwsr) & (data.slot == 'control')].n_clicks.values,\n",
    "            alternative='two-sided')[1])"
   ]
  },
  {
   "cell_type": "code",
   "execution_count": 79,
   "metadata": {
    "collapsed": false
   },
   "outputs": [
    {
     "data": {
      "text/plain": [
       "[0.81521235316909968,\n",
       " 0.51481103044200638,\n",
       " 0.054487720839448202,\n",
       " 0.0,\n",
       " 0.90733312777470754,\n",
       " 0.074801202860216034]"
      ]
     },
     "execution_count": 79,
     "metadata": {},
     "output_type": "execute_result"
    }
   ],
   "source": [
    "p_values"
   ]
  },
  {
   "cell_type": "code",
   "execution_count": 80,
   "metadata": {
    "collapsed": false
   },
   "outputs": [
    {
     "data": {
      "text/plain": [
       "1"
      ]
     },
     "execution_count": 80,
     "metadata": {},
     "output_type": "execute_result"
    }
   ],
   "source": [
    "sum(list(map(lambda x:x<0.05,p_values)))"
   ]
  },
  {
   "cell_type": "markdown",
   "metadata": {},
   "source": [
    "Поправка на множественную проверку\n",
    "Метод Холма\n",
    "В рамках этой поправки мы ограничиваем вероятность того, что хотя бы на одном объекте будет ошибка, 5 %. Соответствующий метод multipletests реализован в библиотеке StatsModels.Передаем p-valueы, уровень значимости 0,05 для ограничения вероятности ошибки 5%, с которым мы работаем и также метод Холма, с помощью которого будет делаться правка. "
   ]
  },
  {
   "cell_type": "code",
   "execution_count": 82,
   "metadata": {
    "collapsed": true
   },
   "outputs": [],
   "source": [
    "from statsmodels.sandbox.stats.multicomp import multipletests"
   ]
  },
  {
   "cell_type": "code",
   "execution_count": 84,
   "metadata": {
    "collapsed": false
   },
   "outputs": [
    {
     "name": "stdout",
     "output_type": "stream",
     "text": [
      "[False False False  True False False]\n",
      "1\n"
     ]
    }
   ],
   "source": [
    "reject, p_corrected, a1, a2 = multipletests(p_values, \n",
    "                                            alpha = 0.05, \n",
    "                                            method = 'holm')\n",
    "print(reject)\n",
    "print(sum(reject))"
   ]
  },
  {
   "cell_type": "code",
   "execution_count": 85,
   "metadata": {
    "collapsed": false
   },
   "outputs": [
    {
     "data": {
      "text/plain": [
       "array([ 1.        ,  1.        ,  0.2724386 ,  0.        ,  1.        ,\n",
       "        0.29920481])"
      ]
     },
     "execution_count": 85,
     "metadata": {},
     "output_type": "execute_result"
    }
   ],
   "source": [
    "p_corrected"
   ]
  },
  {
   "cell_type": "markdown",
   "metadata": {},
   "source": [
    "TASK 7. \n",
    "Для каждого браузера в каждой из двух групп (control и exp) посчитайте долю запросов, в которых пользователь не кликнул ни разу. Это можно сделать, поделив сумму значений n_nonclk_queries на сумму значений n_queries. Умножив это значение на 100, получим процент некликнутых запросов, который можно легче проинтерпретировать.\n",
    "\n",
    "Сходятся ли результаты проведенного Вами анализа с показателем процента некликнутых запросов ? Отметьте все верные утверждения."
   ]
  },
  {
   "cell_type": "markdown",
   "metadata": {},
   "source": [
    "С помощью анализа, проведенного в предыдущем вопросе, мы показали, что тестируемое изменение приводит к статистически значимому отличию только для одного браузера. Для этого браузера на основе данных о доли некликнутых запросов, заключаем, что тестируемое изменение влияет на пользователей позитивно.\n",
    "\n",
    "Тестируемое изменение можно предложить к внедрению только на тот сегмент пользователей, где локализуется изменение, то есть для того браузера, для которого доля некликнутых запросов уменьшилась больше всего. Для прочих браузеров мы не обладаем никакой информацией относительно влияния тестируемого изменения на поведение пользователей."
   ]
  },
  {
   "cell_type": "code",
   "execution_count": 93,
   "metadata": {
    "collapsed": false
   },
   "outputs": [
    {
     "name": "stdout",
     "output_type": "stream",
     "text": [
      "Browser #17 46.9709296351 45.1429419036\n",
      "Browser #17 40.5939765935 39.8539472197\n",
      "Browser #17 45.9627471792 44.9827469486\n",
      "Browser #17 57.5904113601 43.7556173613\n",
      "Browser #17 40.5404847434 38.9773764837\n",
      "Browser #17 36.2993667463 36.9374128487\n"
     ]
    }
   ],
   "source": [
    "for brwsr in ['Browser #4', 'Browser #22', 'Browser #2', 'Browser #14', 'Browser #20', 'Browser #17']:\n",
    "    s1 = sum(data[(data.slot=='control') & (data.browser==brwsr)]['n_nonclk_queries'].values)\n",
    "    s2 = sum(data[(data.slot=='control') & (data.browser==brwsr)]['n_queries'].values)\n",
    "    p1 = 100 * s1 / float(s2)\n",
    "    s3 = sum(data[(data.slot=='exp') & (data.browser==brwsr)]['n_nonclk_queries'].values)\n",
    "    s4 = sum(data[(data.slot=='exp') & (data.browser==brwsr)]['n_queries'].values)\n",
    "    p2 = 100 * s3 / float(s4)\n",
    "    print (browser, p1, p2)"
   ]
  },
  {
   "cell_type": "code",
   "execution_count": null,
   "metadata": {
    "collapsed": true
   },
   "outputs": [],
   "source": []
  }
 ],
 "metadata": {
  "kernelspec": {
   "display_name": "Python [Root]",
   "language": "python",
   "name": "Python [Root]"
  },
  "language_info": {
   "codemirror_mode": {
    "name": "ipython",
    "version": 3
   },
   "file_extension": ".py",
   "mimetype": "text/x-python",
   "name": "python",
   "nbconvert_exporter": "python",
   "pygments_lexer": "ipython3",
   "version": "3.5.2"
  }
 },
 "nbformat": 4,
 "nbformat_minor": 0
}
